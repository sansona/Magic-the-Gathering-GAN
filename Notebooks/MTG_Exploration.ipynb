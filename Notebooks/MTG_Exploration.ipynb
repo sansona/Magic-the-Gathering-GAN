{
  "nbformat": 4,
  "nbformat_minor": 0,
  "metadata": {
    "colab": {
      "name": "MTG Exploration.ipynb",
      "provenance": [],
      "collapsed_sections": [
        "QUQ0t9GLBVJ4",
        "MYQGKoHABddh"
      ]
    },
    "kernelspec": {
      "name": "python3",
      "display_name": "Python 3"
    },
    "accelerator": "GPU"
  },
  "cells": [
    {
      "cell_type": "markdown",
      "metadata": {
        "id": "3FtkNLPBz95b"
      },
      "source": [
        "### This is a notebook exploring the efficacy of some barebones NLP models on generating new Magic: the Gathering cards and classifying card archetypes. The models seen are by no means final models."
      ]
    },
    {
      "cell_type": "code",
      "metadata": {
        "id": "xrI9lc62K2a-"
      },
      "source": [
        "import json\n",
        "import pandas as pd\n",
        "import numpy as np\n",
        "!pip install fastai --upgrade\n",
        "!pip install fastcore --upgrade\n",
        "from fastai.text.all import *"
      ],
      "execution_count": null,
      "outputs": []
    },
    {
      "cell_type": "markdown",
      "metadata": {
        "id": "QUQ0t9GLBVJ4"
      },
      "source": [
        "## Load data into dataframe from .json"
      ]
    },
    {
      "cell_type": "code",
      "metadata": {
        "id": "Fw2IYLrauKM5",
        "outputId": "d3ad1e31-da77-4b63-8baf-878ddde0e23f",
        "colab": {
          "base_uri": "https://localhost:8080/",
          "height": 184
        }
      },
      "source": [
        "with open('AllPrintings.json') as f:\n",
        "    data = json.load(f)"
      ],
      "execution_count": 2,
      "outputs": [
        {
          "output_type": "error",
          "ename": "FileNotFoundError",
          "evalue": "ignored",
          "traceback": [
            "\u001b[0;31m---------------------------------------------------------------------------\u001b[0m",
            "\u001b[0;31mFileNotFoundError\u001b[0m                         Traceback (most recent call last)",
            "\u001b[0;32m<ipython-input-2-b404e432b7f8>\u001b[0m in \u001b[0;36m<module>\u001b[0;34m()\u001b[0m\n\u001b[0;32m----> 1\u001b[0;31m \u001b[0;32mwith\u001b[0m \u001b[0mopen\u001b[0m\u001b[0;34m(\u001b[0m\u001b[0;34m'AllPrintings.json'\u001b[0m\u001b[0;34m)\u001b[0m \u001b[0;32mas\u001b[0m \u001b[0mf\u001b[0m\u001b[0;34m:\u001b[0m\u001b[0;34m\u001b[0m\u001b[0;34m\u001b[0m\u001b[0m\n\u001b[0m\u001b[1;32m      2\u001b[0m     \u001b[0mdata\u001b[0m \u001b[0;34m=\u001b[0m \u001b[0mjson\u001b[0m\u001b[0;34m.\u001b[0m\u001b[0mload\u001b[0m\u001b[0;34m(\u001b[0m\u001b[0mf\u001b[0m\u001b[0;34m)\u001b[0m\u001b[0;34m\u001b[0m\u001b[0;34m\u001b[0m\u001b[0m\n",
            "\u001b[0;31mFileNotFoundError\u001b[0m: [Errno 2] No such file or directory: 'AllPrintings.json'"
          ]
        }
      ]
    },
    {
      "cell_type": "code",
      "metadata": {
        "id": "ieFuPwLRwp_W"
      },
      "source": [
        "set_data = data['data']\n",
        "all_sets = list(set_data.keys())"
      ],
      "execution_count": null,
      "outputs": []
    },
    {
      "cell_type": "markdown",
      "metadata": {
        "id": "Qg59xMflPe5N"
      },
      "source": [
        "Iterate through all sets, storing key attributes of cards to dict"
      ]
    },
    {
      "cell_type": "code",
      "metadata": {
        "id": "IzB0tWgx8v_J"
      },
      "source": [
        "all_cards = {}\n",
        "for s in all_sets:\n",
        "    cards = set_data[s]['cards']\n",
        "    # import pdb;pdb.set_trace()\n",
        "    for c in cards:\n",
        "        name = c.get('name')\n",
        "        colorID = ''.join(c.get('colorIdentity'))\n",
        "        colors = ''.join(c.get('colors'))\n",
        "        cmc = c.get('convertedManaCost')\n",
        "        mana_cost = c.get('manaCost')\n",
        "        main_type = c.get('type')\n",
        "        all_types = ','.join(c.get('types'))\n",
        "        power = c.get('power')\n",
        "        toughness = c.get('toughness')\n",
        "        rarity = c.get('rarity')\n",
        "        text = c.get('text')\n",
        "        flavor_text = c.get('flavorText')\n",
        "        if not name in all_cards:\n",
        "            all_cards[name] = {'name': name,\n",
        "                               'colorID': colorID,\n",
        "                               'colors': colors,\n",
        "                               'cmc': cmc,\n",
        "                               'mana_cost': mana_cost,\n",
        "                               'main_type': main_type,\n",
        "                               'all_types': all_types,\n",
        "                               'power': power,\n",
        "                               'toughness': toughness,\n",
        "                               'rarity': rarity,\n",
        "                               'text': text,\n",
        "                               'flavor_text': flavor_text}"
      ],
      "execution_count": null,
      "outputs": []
    },
    {
      "cell_type": "code",
      "metadata": {
        "id": "8A8MfloGDZmN"
      },
      "source": [
        "df = pd.DataFrame(all_cards).T\n",
        "df.reset_index(inplace=True)\n",
        "df.drop('index', axis=1, inplace=True)\n",
        "# df.head()"
      ],
      "execution_count": null,
      "outputs": []
    },
    {
      "cell_type": "markdown",
      "metadata": {
        "id": "y8mDVkQAPv25"
      },
      "source": [
        "Do some light feature extraction based off features that should be relevant later on"
      ]
    },
    {
      "cell_type": "code",
      "metadata": {
        "id": "1pNmNYO5FUM8"
      },
      "source": [
        "df['contains_W'] = df['colors'].str.contains('W', case=True, na=False, regex=False)\n",
        "df['contains_U'] = df['colors'].str.contains('U', case=True, na=False, regex=False)\n",
        "df['contains_B'] = df['colors'].str.contains('B', case=True, na=False, regex=False)\n",
        "df['contains_R'] = df['colors'].str.contains('R', case=True, na=False, regex=False)\n",
        "df['contains_G'] = df['colors'].str.contains('G', case=True, na=False, regex=False)\n",
        "df['is_colorless'] = df['colors'].eq('')\n",
        "df['is_multicolor'] = (df['colorID'].str.len() > 1) & (df['main_type'] != 'Land')"
      ],
      "execution_count": null,
      "outputs": []
    },
    {
      "cell_type": "code",
      "metadata": {
        "id": "7rQTleTeLF1q"
      },
      "source": [
        "df['is_creature'] = df['all_types'].str.contains('creature|summon', case=False, na=False, regex=True)\n",
        "df['is_instant'] = df['all_types'].str.contains('instant', case=False, na=False, regex=False)\n",
        "df['is_enchantment'] = df['all_types'].str.contains('enchantment', case=False, na=False, regex=False)\n",
        "df['is_sorcery'] = df['all_types'].str.contains('sorcery', case=False, na=False, regex=False)\n",
        "df['is_artifact'] = df['all_types'].str.contains('artifact', case=False, na=False, regex=False)\n",
        "df['is_planeswalker'] = df['all_types'].str.contains('planeswalker', case=False, na=False, regex=False)\n",
        "df['is_land'] = df['all_types'].str.contains('land', case=False, na=False, regex=False)"
      ],
      "execution_count": null,
      "outputs": []
    },
    {
      "cell_type": "code",
      "metadata": {
        "id": "pHGx_ksIVYid"
      },
      "source": [
        "df.to_csv('AllPrintings.csv', index=None)\n",
        "# df.shape # 21317"
      ],
      "execution_count": null,
      "outputs": []
    },
    {
      "cell_type": "markdown",
      "metadata": {
        "id": "MYQGKoHABddh"
      },
      "source": [
        "##Filter data\n",
        "\n",
        "Some cards have very unique features or are from sets that are holiday/satire oriented. First, filter out through the ```main_type``` & ```all_type``` attributes so that we only have cards that are within a threshold of card types"
      ]
    },
    {
      "cell_type": "code",
      "metadata": {
        "id": "KYhf04YpEWfe"
      },
      "source": [
        "df = pd.read_csv('AllPrintings.csv')\n",
        "df = df.groupby('main_type').filter(lambda x: len(x) > 4)\n",
        "df = df.groupby('all_types').filter(lambda x: len(x) > 10)\n",
        "df.shape"
      ],
      "execution_count": null,
      "outputs": []
    },
    {
      "cell_type": "markdown",
      "metadata": {
        "id": "k4C2780aLwIO"
      },
      "source": [
        "Drop cards w/ unusual attributes power/toughness/color attributes. The bulk of these cards are from holiday sets"
      ]
    },
    {
      "cell_type": "code",
      "metadata": {
        "id": "UX_4qF1RNzEG"
      },
      "source": [
        "drop_power = df.loc[(df['is_creature']) & (~df['power'].isin([str(i) for i in range(20)]))]\n",
        "drop_toughness = df.loc[(df['is_creature']) & (~df['toughness'].isin([str(i) for i in range(15)]))]\n",
        "drop_cmc = df.loc[df['cmc'].isin([1000000.0])]\n",
        "drop_colorID = df.loc[df['colorID'].isin(['GRUW', 'BGRW', 'BGUW', 'BRUW', 'BGRU'])]\n",
        "\n",
        "all_drops = pd.concat([drop_power, drop_toughness, drop_cmc, drop_colorID])\n",
        "df.drop(all_drops.index, inplace=True)\n",
        "df.shape"
      ],
      "execution_count": null,
      "outputs": []
    },
    {
      "cell_type": "code",
      "metadata": {
        "id": "syEzq5LnJdwh"
      },
      "source": [
        "df.to_csv('MTGAN.csv', index=None)"
      ],
      "execution_count": null,
      "outputs": []
    },
    {
      "cell_type": "code",
      "metadata": {
        "id": "OrFaNYygL81q"
      },
      "source": [
        "# df.columns"
      ],
      "execution_count": null,
      "outputs": []
    },
    {
      "cell_type": "code",
      "metadata": {
        "id": "QDDIcmGmUA3A"
      },
      "source": [
        "# df.info()"
      ],
      "execution_count": null,
      "outputs": []
    },
    {
      "cell_type": "markdown",
      "metadata": {
        "id": "s58u0xE3y2pG"
      },
      "source": [
        "## Format data for language model\n",
        "Numericalize text"
      ]
    },
    {
      "cell_type": "code",
      "metadata": {
        "id": "Rm-0dLGEy0zw",
        "outputId": "9d52a1e9-cb87-485b-d4b9-ff340e4819e5",
        "colab": {
          "base_uri": "https://localhost:8080/"
        }
      },
      "source": [
        "df = pd.read_csv('MTGAN.csv')\n",
        "df.shape"
      ],
      "execution_count": 3,
      "outputs": [
        {
          "output_type": "execute_result",
          "data": {
            "text/plain": [
              "(18887, 26)"
            ]
          },
          "metadata": {
            "tags": []
          },
          "execution_count": 3
        }
      ]
    },
    {
      "cell_type": "markdown",
      "metadata": {
        "id": "bANyB7z2Q2Tc"
      },
      "source": [
        "Drop cards with no ```text``` and/or ```colorID``` attributes. In fine-tuning model, will likely want to include cards w/ no color ID as those represent ~10% of data, but will have to be mindful of how to do this as many will be land cards which should not be included"
      ]
    },
    {
      "cell_type": "code",
      "metadata": {
        "id": "-Q8x5QPFHly6",
        "outputId": "669b325f-bdbe-4db6-d938-5504814a7969",
        "colab": {
          "base_uri": "https://localhost:8080/"
        }
      },
      "source": [
        "txt_df = df[df['text'].notnull()] \n",
        "txt_df = txt_df[txt_df['colorID'].notnull()] # Maybe I should just replace the nans with some colorless value\n",
        "print(f\"Rows dropped: {df.shape[0] - txt_df.shape[0]}\")"
      ],
      "execution_count": 4,
      "outputs": [
        {
          "output_type": "stream",
          "text": [
            "Rows dropped: 2424\n"
          ],
          "name": "stdout"
        }
      ]
    },
    {
      "cell_type": "code",
      "metadata": {
        "id": "TZ_zTcSEyoGz",
        "outputId": "86bc1c21-2888-4b8a-c19f-3a3ec885a559",
        "colab": {
          "base_uri": "https://localhost:8080/"
        }
      },
      "source": [
        "txts = L(txt_df['text'].to_list())\n",
        "len(txts)"
      ],
      "execution_count": 5,
      "outputs": [
        {
          "output_type": "execute_result",
          "data": {
            "text/plain": [
              "16463"
            ]
          },
          "metadata": {
            "tags": []
          },
          "execution_count": 5
        }
      ]
    },
    {
      "cell_type": "markdown",
      "metadata": {
        "id": "I50hunBbA6xh"
      },
      "source": [
        "Tokenize & numericalize text"
      ]
    },
    {
      "cell_type": "code",
      "metadata": {
        "id": "lfR9filzzOyP",
        "outputId": "c3776d45-8d4b-45dc-90d6-975481e5437a",
        "colab": {
          "base_uri": "https://localhost:8080/"
        }
      },
      "source": [
        "tkn = Tokenizer(WordTokenizer())\n",
        "tokens = txts.map(tkn)\n",
        "tokens[0]"
      ],
      "execution_count": 6,
      "outputs": [
        {
          "output_type": "execute_result",
          "data": {
            "text/plain": [
              "(#60) ['xxbos','xxmaj','if','you','would','draw','a','card',',','you'...]"
            ]
          },
          "metadata": {
            "tags": []
          },
          "execution_count": 6
        }
      ]
    },
    {
      "cell_type": "code",
      "metadata": {
        "id": "Vx7vVdMcz8GR"
      },
      "source": [
        "num = Numericalize(min_freq=5)\n",
        "num.setup(tkn(tokens))\n",
        "# coll_repr(num.vocab, 200)"
      ],
      "execution_count": 7,
      "outputs": []
    },
    {
      "cell_type": "code",
      "metadata": {
        "id": "Kl0MLrV_oXgS",
        "outputId": "16f3de4b-7488-4fdb-a067-2a7a53a0f676",
        "colab": {
          "base_uri": "https://localhost:8080/"
        }
      },
      "source": [
        "# Apply numericalizer to all text and load into dataloader\n",
        "numericalized = tokens.map(num)\n",
        "dl = LMDataLoader(numericalized, bs=128, shuffle=True)\n",
        "\n",
        "x, y = first(dl)\n",
        "x.shape, y.shape"
      ],
      "execution_count": 8,
      "outputs": [
        {
          "output_type": "execute_result",
          "data": {
            "text/plain": [
              "(torch.Size([128, 72]), torch.Size([128, 72]))"
            ]
          },
          "metadata": {
            "tags": []
          },
          "execution_count": 8
        }
      ]
    },
    {
      "cell_type": "markdown",
      "metadata": {
        "id": "dd4YrdMgRNeU"
      },
      "source": [
        "```fastai``` handles the tokenization & numericalization in the ```TextDataLoaders``` object so will transition to that, but nice to see that the process works as intended here"
      ]
    },
    {
      "cell_type": "markdown",
      "metadata": {
        "id": "ZmLjR4kZOH47"
      },
      "source": [
        "## Train language model"
      ]
    },
    {
      "cell_type": "markdown",
      "metadata": {
        "id": "ycUv5CccAIZl"
      },
      "source": [
        "By default, fastai sets the ```x``` and ```y``` variables in ```LMDataLoader``` to where ```x``` is the numericalized input and ```y``` is the numericalized input shifted over 1. This is because to train a generative language model, the model has to learn the ```n+1``` token. \n",
        "\n",
        "Rather than going through explicit tokenization & numericalizaton, use ```TextDataLoaders``` instead"
      ]
    },
    {
      "cell_type": "code",
      "metadata": {
        "id": "ygqNhYLYWsoi",
        "outputId": "d19f436c-f14d-4f09-9ac4-62b83a15aa68",
        "colab": {
          "base_uri": "https://localhost:8080/",
          "height": 17
        }
      },
      "source": [
        "dls = TextDataLoaders.from_df(txt_df, text_col='text', is_lm=True)"
      ],
      "execution_count": 9,
      "outputs": [
        {
          "output_type": "display_data",
          "data": {
            "text/html": [
              ""
            ],
            "text/plain": [
              "<IPython.core.display.HTML object>"
            ]
          },
          "metadata": {
            "tags": []
          }
        }
      ]
    },
    {
      "cell_type": "code",
      "metadata": {
        "id": "Xg0eA93AaTgt",
        "outputId": "fadd998a-077e-4947-c1c0-07be44cbecf5",
        "colab": {
          "base_uri": "https://localhost:8080/",
          "height": 17
        }
      },
      "source": [
        "model = language_model_learner(dls,\n",
        "                               AWD_LSTM,\n",
        "                               drop_mult=0.3,\n",
        "                               metrics=[accuracy, Perplexity()]).to_fp16()\n",
        "\n",
        "# model.lr_find() #2e-2"
      ],
      "execution_count": 10,
      "outputs": [
        {
          "output_type": "display_data",
          "data": {
            "text/html": [
              ""
            ],
            "text/plain": [
              "<IPython.core.display.HTML object>"
            ]
          },
          "metadata": {
            "tags": []
          }
        }
      ]
    },
    {
      "cell_type": "code",
      "metadata": {
        "id": "JARmoujqbIb8",
        "outputId": "9bbe3a55-c767-48e9-f142-d0ac73fd7804",
        "colab": {
          "base_uri": "https://localhost:8080/",
          "height": 333
        }
      },
      "source": [
        "model.fit_one_cycle(1, 2e-2)\n",
        "model.unfreeze()\n",
        "model.fit_one_cycle(7, 2e-3)"
      ],
      "execution_count": 11,
      "outputs": [
        {
          "output_type": "display_data",
          "data": {
            "text/html": [
              "<table border=\"1\" class=\"dataframe\">\n",
              "  <thead>\n",
              "    <tr style=\"text-align: left;\">\n",
              "      <th>epoch</th>\n",
              "      <th>train_loss</th>\n",
              "      <th>valid_loss</th>\n",
              "      <th>accuracy</th>\n",
              "      <th>perplexity</th>\n",
              "      <th>time</th>\n",
              "    </tr>\n",
              "  </thead>\n",
              "  <tbody>\n",
              "    <tr>\n",
              "      <td>0</td>\n",
              "      <td>2.229540</td>\n",
              "      <td>1.644342</td>\n",
              "      <td>0.623328</td>\n",
              "      <td>5.177600</td>\n",
              "      <td>00:24</td>\n",
              "    </tr>\n",
              "  </tbody>\n",
              "</table>"
            ],
            "text/plain": [
              "<IPython.core.display.HTML object>"
            ]
          },
          "metadata": {
            "tags": []
          }
        },
        {
          "output_type": "display_data",
          "data": {
            "text/html": [
              "<table border=\"1\" class=\"dataframe\">\n",
              "  <thead>\n",
              "    <tr style=\"text-align: left;\">\n",
              "      <th>epoch</th>\n",
              "      <th>train_loss</th>\n",
              "      <th>valid_loss</th>\n",
              "      <th>accuracy</th>\n",
              "      <th>perplexity</th>\n",
              "      <th>time</th>\n",
              "    </tr>\n",
              "  </thead>\n",
              "  <tbody>\n",
              "    <tr>\n",
              "      <td>0</td>\n",
              "      <td>1.564675</td>\n",
              "      <td>1.351149</td>\n",
              "      <td>0.682694</td>\n",
              "      <td>3.861861</td>\n",
              "      <td>00:24</td>\n",
              "    </tr>\n",
              "    <tr>\n",
              "      <td>1</td>\n",
              "      <td>1.298771</td>\n",
              "      <td>1.136717</td>\n",
              "      <td>0.730038</td>\n",
              "      <td>3.116520</td>\n",
              "      <td>00:24</td>\n",
              "    </tr>\n",
              "    <tr>\n",
              "      <td>2</td>\n",
              "      <td>1.119776</td>\n",
              "      <td>1.060791</td>\n",
              "      <td>0.748565</td>\n",
              "      <td>2.888655</td>\n",
              "      <td>00:24</td>\n",
              "    </tr>\n",
              "    <tr>\n",
              "      <td>3</td>\n",
              "      <td>0.993915</td>\n",
              "      <td>1.029428</td>\n",
              "      <td>0.756214</td>\n",
              "      <td>2.799465</td>\n",
              "      <td>00:23</td>\n",
              "    </tr>\n",
              "    <tr>\n",
              "      <td>4</td>\n",
              "      <td>0.893552</td>\n",
              "      <td>1.014689</td>\n",
              "      <td>0.762276</td>\n",
              "      <td>2.758505</td>\n",
              "      <td>00:24</td>\n",
              "    </tr>\n",
              "    <tr>\n",
              "      <td>5</td>\n",
              "      <td>0.825887</td>\n",
              "      <td>1.010352</td>\n",
              "      <td>0.764421</td>\n",
              "      <td>2.746567</td>\n",
              "      <td>00:23</td>\n",
              "    </tr>\n",
              "    <tr>\n",
              "      <td>6</td>\n",
              "      <td>0.782297</td>\n",
              "      <td>1.013263</td>\n",
              "      <td>0.764723</td>\n",
              "      <td>2.754575</td>\n",
              "      <td>00:24</td>\n",
              "    </tr>\n",
              "  </tbody>\n",
              "</table>"
            ],
            "text/plain": [
              "<IPython.core.display.HTML object>"
            ]
          },
          "metadata": {
            "tags": []
          }
        }
      ]
    },
    {
      "cell_type": "markdown",
      "metadata": {
        "id": "zjwegSVrfQCP"
      },
      "source": [
        "Pretty solid. This should be good to build upon. Let's test some test card generation"
      ]
    },
    {
      "cell_type": "code",
      "metadata": {
        "id": "iaSd-UbZoJSl"
      },
      "source": [
        "# test_txt = \"Draw a card for\"\n",
        "# n_words = 100\n",
        "# n_sentences = 10\n",
        "# preds = [model.predict(test_txt, n_words) for _ in range(n_sentences)]\n",
        "# print(\"\\n\\n\".join(preds))"
      ],
      "execution_count": 12,
      "outputs": []
    },
    {
      "cell_type": "markdown",
      "metadata": {
        "id": "1Bq6kszTriLw"
      },
      "source": [
        "Pretty cool. Save the encoder to use as classifier"
      ]
    },
    {
      "cell_type": "code",
      "metadata": {
        "id": "_WJzH1sPr9YM"
      },
      "source": [
        "model.save_encoder('language_model')"
      ],
      "execution_count": 13,
      "outputs": []
    },
    {
      "cell_type": "markdown",
      "metadata": {
        "id": "ReBOJnezN91a"
      },
      "source": [
        "## Train color classifier"
      ]
    },
    {
      "cell_type": "code",
      "metadata": {
        "id": "Gzh3AysBAH-i",
        "outputId": "deb301b3-0337-4487-d81c-b036007e0e0a",
        "colab": {
          "base_uri": "https://localhost:8080/",
          "height": 17
        }
      },
      "source": [
        "db = DataBlock(blocks=(TextBlock.from_df('text'), CategoryBlock),\n",
        "               get_x=ColReader('text'),\n",
        "               get_y=ColReader('colorID'),\n",
        "               splitter=RandomSplitter(0.2))\n",
        "dls = db.dataloaders(txt_df)"
      ],
      "execution_count": 14,
      "outputs": [
        {
          "output_type": "display_data",
          "data": {
            "text/html": [
              ""
            ],
            "text/plain": [
              "<IPython.core.display.HTML object>"
            ]
          },
          "metadata": {
            "tags": []
          }
        }
      ]
    },
    {
      "cell_type": "code",
      "metadata": {
        "id": "8-Gt_g4xGcxe",
        "outputId": "d68a5e47-c1f7-4ab1-837d-024a8685e508",
        "colab": {
          "base_uri": "https://localhost:8080/",
          "height": 456
        }
      },
      "source": [
        "dls.show_batch(max_n=3)"
      ],
      "execution_count": 15,
      "outputs": [
        {
          "output_type": "display_data",
          "data": {
            "text/html": [
              "<table border=\"1\" class=\"dataframe\">\n",
              "  <thead>\n",
              "    <tr style=\"text-align: right;\">\n",
              "      <th></th>\n",
              "      <th>text</th>\n",
              "      <th>category</th>\n",
              "    </tr>\n",
              "  </thead>\n",
              "  <tbody>\n",
              "    <tr>\n",
              "      <th>0</th>\n",
              "      <td>xxbos xxmaj xxunk to xxunk xxunk ) of xxmaj richard 's xxmaj rules of xxmaj order , at the beginning of the upkeep of each xxunk in this game of the xxmaj magic : xxmaj the xxmaj gathering ® trading card game ( hereafter known as \" player \" ) , that xxup player xxunk all actions in the xxunk of xxunk added actions ( hereafter known as \" action xxup xxunk \" ) , in the order those actions were added , then adds another action to the end of the xxup action xxup xxunk . xxmaj all actions must be xxunk xxunk or xxunk actions that a player can xxunk while xxunk in a xxunk , without xxunk the xxunk and xxunk of xxunk xxup player . \\n xxmaj when any xxup player does not xxunk all the xxunk actions in the xxunk order , sacrifice xxmaj xxunk</td>\n",
              "      <td>U</td>\n",
              "    </tr>\n",
              "    <tr>\n",
              "      <th>1</th>\n",
              "      <td>xxbos xxmaj defender ( this creature ca n't attack . ) \\n xxmaj when xxmaj xxunk enters the battlefield , you may search your library for any number of cards that have converted mana cost 9 , reveal them , and put them into your hand . xxmaj if you do , shuffle your library . \\n { 4 } : xxmaj xxunk loses defender until end of turn . \\n xxmaj transmute { 1}{u}{u } ( { 1}{u}{u } , xxmaj discard this card : xxmaj search your library for a card with the same converted mana cost as this card , reveal it , and put it into your hand . xxmaj then shuffle your library . xxmaj transmute only as a sorcery . ) xxpad xxpad xxpad xxpad xxpad xxpad xxpad xxpad xxpad xxpad xxpad xxpad xxpad xxpad xxpad xxpad xxpad xxpad xxpad xxpad xxpad xxpad xxpad</td>\n",
              "      <td>U</td>\n",
              "    </tr>\n",
              "    <tr>\n",
              "      <th>2</th>\n",
              "      <td>xxbos { 1}{w / xxup b } : xxmaj warden of the xxmaj first xxmaj tree becomes a xxmaj human xxmaj warrior with base power and toughness 3 / 3 . \\n { 2}{w / xxup b}{w / xxup b } : xxmaj if xxmaj warden of the xxmaj first xxmaj tree is a xxmaj warrior , it becomes a xxmaj human xxmaj spirit xxmaj warrior with trample and lifelink . \\n { 3}{w / xxup b}{w / xxup b}{w / xxup b } : xxmaj if xxmaj warden of the xxmaj first xxmaj tree is a xxmaj spirit , put five +1 / +1 counters on it . xxpad xxpad xxpad xxpad xxpad xxpad xxpad xxpad xxpad xxpad xxpad xxpad xxpad xxpad xxpad xxpad xxpad xxpad xxpad xxpad xxpad xxpad xxpad xxpad xxpad xxpad xxpad xxpad xxpad xxpad xxpad xxpad xxpad xxpad xxpad xxpad xxpad xxpad xxpad xxpad xxpad</td>\n",
              "      <td>BGW</td>\n",
              "    </tr>\n",
              "  </tbody>\n",
              "</table>"
            ],
            "text/plain": [
              "<IPython.core.display.HTML object>"
            ]
          },
          "metadata": {
            "tags": []
          }
        }
      ]
    },
    {
      "cell_type": "code",
      "metadata": {
        "id": "exFJ84I4HVHq"
      },
      "source": [
        "# txt_df['colorID'].value_counts()"
      ],
      "execution_count": 16,
      "outputs": []
    },
    {
      "cell_type": "markdown",
      "metadata": {
        "id": "DOUR-3uurrRV"
      },
      "source": [
        "Some of the three color & two color categories are pretty low-N. May be a problem. For now, let's try training a model and seeing how it goes"
      ]
    },
    {
      "cell_type": "code",
      "metadata": {
        "id": "cVp_U6vsrqpk"
      },
      "source": [
        "classifier = text_classifier_learner(dls, AWD_LSTM, drop_mult=0.5, metrics=accuracy).to_fp16()\n",
        "classifier = classifier.load_encoder('language_model') \n",
        "# classifier.lr_find() #3e-3"
      ],
      "execution_count": 17,
      "outputs": []
    },
    {
      "cell_type": "markdown",
      "metadata": {
        "id": "XdsXGsJcwWQk"
      },
      "source": [
        "Train with discriminative learning rates & gradual unfreezing"
      ]
    },
    {
      "cell_type": "code",
      "metadata": {
        "id": "JLtlztaUrorB",
        "outputId": "dbf69abd-2ccf-4277-b360-f0a523f570e4",
        "colab": {
          "base_uri": "https://localhost:8080/",
          "height": 81
        }
      },
      "source": [
        "classifier.fit_one_cycle(1, 3e-3)"
      ],
      "execution_count": 18,
      "outputs": [
        {
          "output_type": "display_data",
          "data": {
            "text/html": [
              "<table border=\"1\" class=\"dataframe\">\n",
              "  <thead>\n",
              "    <tr style=\"text-align: left;\">\n",
              "      <th>epoch</th>\n",
              "      <th>train_loss</th>\n",
              "      <th>valid_loss</th>\n",
              "      <th>accuracy</th>\n",
              "      <th>time</th>\n",
              "    </tr>\n",
              "  </thead>\n",
              "  <tbody>\n",
              "    <tr>\n",
              "      <td>0</td>\n",
              "      <td>2.110026</td>\n",
              "      <td>1.788654</td>\n",
              "      <td>0.503949</td>\n",
              "      <td>00:23</td>\n",
              "    </tr>\n",
              "  </tbody>\n",
              "</table>"
            ],
            "text/plain": [
              "<IPython.core.display.HTML object>"
            ]
          },
          "metadata": {
            "tags": []
          }
        }
      ]
    },
    {
      "cell_type": "code",
      "metadata": {
        "id": "uSY1yDsrs3Dd",
        "outputId": "750477b3-0cd1-4f93-fc4f-08b6fd471bba",
        "colab": {
          "base_uri": "https://localhost:8080/",
          "height": 81
        }
      },
      "source": [
        "lr_inc = 2.6**4\n",
        "classifier.freeze_to(-2)\n",
        "classifier.fit_one_cycle(1, slice(2e-3/lr_inc, 2e-3))"
      ],
      "execution_count": 19,
      "outputs": [
        {
          "output_type": "display_data",
          "data": {
            "text/html": [
              "<table border=\"1\" class=\"dataframe\">\n",
              "  <thead>\n",
              "    <tr style=\"text-align: left;\">\n",
              "      <th>epoch</th>\n",
              "      <th>train_loss</th>\n",
              "      <th>valid_loss</th>\n",
              "      <th>accuracy</th>\n",
              "      <th>time</th>\n",
              "    </tr>\n",
              "  </thead>\n",
              "  <tbody>\n",
              "    <tr>\n",
              "      <td>0</td>\n",
              "      <td>1.811390</td>\n",
              "      <td>1.590325</td>\n",
              "      <td>0.542224</td>\n",
              "      <td>00:23</td>\n",
              "    </tr>\n",
              "  </tbody>\n",
              "</table>"
            ],
            "text/plain": [
              "<IPython.core.display.HTML object>"
            ]
          },
          "metadata": {
            "tags": []
          }
        }
      ]
    },
    {
      "cell_type": "code",
      "metadata": {
        "id": "Es5AShg3vFid"
      },
      "source": [
        "# classifier.lr_find() #(2e-3, e-4)"
      ],
      "execution_count": 20,
      "outputs": []
    },
    {
      "cell_type": "code",
      "metadata": {
        "id": "qyutuUnOvRBQ",
        "outputId": "cbad9603-47ed-4efc-e394-dca84a20d8be",
        "colab": {
          "base_uri": "https://localhost:8080/",
          "height": 81
        }
      },
      "source": [
        "classifier.freeze_to(-3)\n",
        "classifier.fit_one_cycle(1, slice(2e-3/lr_inc, 2e-3))"
      ],
      "execution_count": 21,
      "outputs": [
        {
          "output_type": "display_data",
          "data": {
            "text/html": [
              "<table border=\"1\" class=\"dataframe\">\n",
              "  <thead>\n",
              "    <tr style=\"text-align: left;\">\n",
              "      <th>epoch</th>\n",
              "      <th>train_loss</th>\n",
              "      <th>valid_loss</th>\n",
              "      <th>accuracy</th>\n",
              "      <th>time</th>\n",
              "    </tr>\n",
              "  </thead>\n",
              "  <tbody>\n",
              "    <tr>\n",
              "      <td>0</td>\n",
              "      <td>1.615964</td>\n",
              "      <td>1.422829</td>\n",
              "      <td>0.586877</td>\n",
              "      <td>00:24</td>\n",
              "    </tr>\n",
              "  </tbody>\n",
              "</table>"
            ],
            "text/plain": [
              "<IPython.core.display.HTML object>"
            ]
          },
          "metadata": {
            "tags": []
          }
        }
      ]
    },
    {
      "cell_type": "code",
      "metadata": {
        "id": "-DQ3SMPrvj3S"
      },
      "source": [
        "classifier.unfreeze()\n",
        "# classifier.lr_find() #(2e-3, e-4)"
      ],
      "execution_count": 22,
      "outputs": []
    },
    {
      "cell_type": "code",
      "metadata": {
        "id": "A2Nqp5C-vu_h",
        "outputId": "52e8f97b-fabf-4584-ae29-97e24e92ac5d",
        "colab": {
          "base_uri": "https://localhost:8080/",
          "height": 112
        }
      },
      "source": [
        "classifier.fit_one_cycle(2, slice(2e-3/lr_inc, 2e-3))"
      ],
      "execution_count": 23,
      "outputs": [
        {
          "output_type": "display_data",
          "data": {
            "text/html": [
              "<table border=\"1\" class=\"dataframe\">\n",
              "  <thead>\n",
              "    <tr style=\"text-align: left;\">\n",
              "      <th>epoch</th>\n",
              "      <th>train_loss</th>\n",
              "      <th>valid_loss</th>\n",
              "      <th>accuracy</th>\n",
              "      <th>time</th>\n",
              "    </tr>\n",
              "  </thead>\n",
              "  <tbody>\n",
              "    <tr>\n",
              "      <td>0</td>\n",
              "      <td>1.458595</td>\n",
              "      <td>1.288594</td>\n",
              "      <td>0.624848</td>\n",
              "      <td>00:25</td>\n",
              "    </tr>\n",
              "    <tr>\n",
              "      <td>1</td>\n",
              "      <td>1.278050</td>\n",
              "      <td>1.201958</td>\n",
              "      <td>0.657959</td>\n",
              "      <td>00:25</td>\n",
              "    </tr>\n",
              "  </tbody>\n",
              "</table>"
            ],
            "text/plain": [
              "<IPython.core.display.HTML object>"
            ]
          },
          "metadata": {
            "tags": []
          }
        }
      ]
    },
    {
      "cell_type": "code",
      "metadata": {
        "id": "WZv0A96fv01o"
      },
      "source": [
        "# classifier.lr_find() #3e-3"
      ],
      "execution_count": 24,
      "outputs": []
    },
    {
      "cell_type": "code",
      "metadata": {
        "id": "9lCCQgYdv_zl",
        "outputId": "b04437ad-644a-4281-d2e8-b9e7d7d6eb08",
        "colab": {
          "base_uri": "https://localhost:8080/",
          "height": 175
        }
      },
      "source": [
        "classifier.fit_one_cycle(4, 3e-3)"
      ],
      "execution_count": 25,
      "outputs": [
        {
          "output_type": "display_data",
          "data": {
            "text/html": [
              "<table border=\"1\" class=\"dataframe\">\n",
              "  <thead>\n",
              "    <tr style=\"text-align: left;\">\n",
              "      <th>epoch</th>\n",
              "      <th>train_loss</th>\n",
              "      <th>valid_loss</th>\n",
              "      <th>accuracy</th>\n",
              "      <th>time</th>\n",
              "    </tr>\n",
              "  </thead>\n",
              "  <tbody>\n",
              "    <tr>\n",
              "      <td>0</td>\n",
              "      <td>1.316695</td>\n",
              "      <td>1.222355</td>\n",
              "      <td>0.649757</td>\n",
              "      <td>00:25</td>\n",
              "    </tr>\n",
              "    <tr>\n",
              "      <td>1</td>\n",
              "      <td>1.074185</td>\n",
              "      <td>1.002358</td>\n",
              "      <td>0.715978</td>\n",
              "      <td>00:25</td>\n",
              "    </tr>\n",
              "    <tr>\n",
              "      <td>2</td>\n",
              "      <td>0.815714</td>\n",
              "      <td>0.926399</td>\n",
              "      <td>0.741495</td>\n",
              "      <td>00:25</td>\n",
              "    </tr>\n",
              "    <tr>\n",
              "      <td>3</td>\n",
              "      <td>0.588125</td>\n",
              "      <td>0.938390</td>\n",
              "      <td>0.738761</td>\n",
              "      <td>00:25</td>\n",
              "    </tr>\n",
              "  </tbody>\n",
              "</table>"
            ],
            "text/plain": [
              "<IPython.core.display.HTML object>"
            ]
          },
          "metadata": {
            "tags": []
          }
        }
      ]
    },
    {
      "cell_type": "code",
      "metadata": {
        "id": "3r8e57OfwHSB",
        "outputId": "eda86d63-08c7-4bfd-e7c2-0520a52a4526",
        "colab": {
          "base_uri": "https://localhost:8080/",
          "height": 265
        }
      },
      "source": [
        "classifier.recorder.plot_loss()"
      ],
      "execution_count": 26,
      "outputs": [
        {
          "output_type": "display_data",
          "data": {
            "image/png": "[encoded data removed]",
            "text/plain": [
              "<Figure size 432x288 with 1 Axes>"
            ]
          },
          "metadata": {
            "tags": [],
            "needs_background": "light"
          }
        }
      ]
    },
    {
      "cell_type": "markdown",
      "metadata": {
        "id": "hRlxgfLuy584"
      },
      "source": [
        "Looks like this is as good as we're going to get. Probably try a multilabel classification instead? With how MTG is setup, this may be a better choice, especially given the low-N of double & tri-colored cards.\n",
        "\n",
        "Let's see where we're going wrong"
      ]
    },
    {
      "cell_type": "code",
      "metadata": {
        "id": "Ar86QcqHyUGR"
      },
      "source": [
        "interp = ClassificationInterpretation.from_learner(classifier)\n",
        "interp.most_confused(min_val=15)"
      ],
      "execution_count": null,
      "outputs": []
    },
    {
      "cell_type": "code",
      "metadata": {
        "id": "U9bXdlN7T6_x"
      },
      "source": [
        "interp.print_classification_report()"
      ],
      "execution_count": null,
      "outputs": []
    },
    {
      "cell_type": "markdown",
      "metadata": {
        "id": "hMgKk9RUUEXE"
      },
      "source": [
        "A couples things noteworthy here:\n",
        "1. The bulk of misclassified data is single-colored. There's likely an effect of single-colored being overrepresented in the dataset as a whole so this isn't too surprising, but I was expected multicolored cards to have greater error prominence\n",
        "2. As expected, the f1 scores of single colored cards averages around 75% whereas double-colored is around 40-60% and tricolored varies wildly.\n",
        "\n",
        "Let's try a multilabel classifier. It's likely this'll be what we want anyways as, despite each color combination having a unique identity & feel, the color combinations are made up of their constituent colors"
      ]
    },
    {
      "cell_type": "markdown",
      "metadata": {
        "id": "oJcs4_grXaLf"
      },
      "source": [
        "## Train multilabel classifier"
      ]
    },
    {
      "cell_type": "markdown",
      "metadata": {
        "id": "pPc3OP7DpMc-"
      },
      "source": [
        "Reformat the label category to make it easier for the learner"
      ]
    },
    {
      "cell_type": "code",
      "metadata": {
        "id": "0M_pynuNj__M"
      },
      "source": [
        "def split_whitespace(c):\n",
        "    splits = list(c)\n",
        "    return \" \".join(splits)\n",
        "\n",
        "txt_df['colorID'] = txt_df['colorID'].apply(split_whitespace)"
      ],
      "execution_count": 53,
      "outputs": []
    },
    {
      "cell_type": "code",
      "metadata": {
        "id": "qjAeSU5WXlnh",
        "outputId": "17075b50-2f89-4592-c4c3-edbc6846c1f8",
        "colab": {
          "base_uri": "https://localhost:8080/",
          "height": 17
        }
      },
      "source": [
        "def get_color_labels(r):\n",
        "    return r['colorID'].split(\" \")\n",
        "\n",
        "db = DataBlock(blocks=(TextBlock.from_df('text'), MultiCategoryBlock),\n",
        "               get_x=ColReader('text'),\n",
        "               get_y=get_color_labels,\n",
        "               splitter=RandomSplitter(0.2))\n",
        "\n",
        "dls = db.dataloaders(txt_df)"
      ],
      "execution_count": 54,
      "outputs": [
        {
          "output_type": "display_data",
          "data": {
            "text/html": [
              ""
            ],
            "text/plain": [
              "<IPython.core.display.HTML object>"
            ]
          },
          "metadata": {
            "tags": []
          }
        }
      ]
    },
    {
      "cell_type": "code",
      "metadata": {
        "id": "ChsfcVwFZlOF"
      },
      "source": [
        "# dls.show_batch(max_n=3)"
      ],
      "execution_count": null,
      "outputs": []
    },
    {
      "cell_type": "markdown",
      "metadata": {
        "id": "Wp8cYaO0uc8w"
      },
      "source": [
        "Train model similar to above, but a bit more liberal with learning rates"
      ]
    },
    {
      "cell_type": "code",
      "metadata": {
        "id": "JY1AOwZesbBb"
      },
      "source": [
        "multiclass = text_classifier_learner(dls, AWD_LSTM, drop_mult=0.5, metrics=accuracy_multi).to_fp16()\n",
        "multiclass = multiclass.load_encoder('language_model') \n",
        "# multiclass.lr_find() #3e-3"
      ],
      "execution_count": 80,
      "outputs": []
    },
    {
      "cell_type": "code",
      "metadata": {
        "id": "ViPhDAces5w-",
        "outputId": "bb750cb8-2d66-49a2-8467-4b2e95683508",
        "colab": {
          "base_uri": "https://localhost:8080/",
          "height": 81
        }
      },
      "source": [
        "multiclass.fit_one_cycle(1, 3e-3)"
      ],
      "execution_count": 81,
      "outputs": [
        {
          "output_type": "display_data",
          "data": {
            "text/html": [
              "<table border=\"1\" class=\"dataframe\">\n",
              "  <thead>\n",
              "    <tr style=\"text-align: left;\">\n",
              "      <th>epoch</th>\n",
              "      <th>train_loss</th>\n",
              "      <th>valid_loss</th>\n",
              "      <th>accuracy_multi</th>\n",
              "      <th>time</th>\n",
              "    </tr>\n",
              "  </thead>\n",
              "  <tbody>\n",
              "    <tr>\n",
              "      <td>0</td>\n",
              "      <td>0.583173</td>\n",
              "      <td>0.417817</td>\n",
              "      <td>0.825334</td>\n",
              "      <td>00:25</td>\n",
              "    </tr>\n",
              "  </tbody>\n",
              "</table>"
            ],
            "text/plain": [
              "<IPython.core.display.HTML object>"
            ]
          },
          "metadata": {
            "tags": []
          }
        }
      ]
    },
    {
      "cell_type": "code",
      "metadata": {
        "id": "us3cqs2itE7j"
      },
      "source": [
        "multiclass.freeze_to(-2)\n",
        "# multiclass.lr_find() # 1e-3"
      ],
      "execution_count": 82,
      "outputs": []
    },
    {
      "cell_type": "code",
      "metadata": {
        "id": "n0VX8aqvtOEo",
        "outputId": "61e30176-025d-4c08-aa2e-5cb638e28aa2",
        "colab": {
          "base_uri": "https://localhost:8080/",
          "height": 112
        }
      },
      "source": [
        "multiclass.fit_one_cycle(2, slice(1e-3/lr_inc, 1e-3))"
      ],
      "execution_count": 83,
      "outputs": [
        {
          "output_type": "display_data",
          "data": {
            "text/html": [
              "<table border=\"1\" class=\"dataframe\">\n",
              "  <thead>\n",
              "    <tr style=\"text-align: left;\">\n",
              "      <th>epoch</th>\n",
              "      <th>train_loss</th>\n",
              "      <th>valid_loss</th>\n",
              "      <th>accuracy_multi</th>\n",
              "      <th>time</th>\n",
              "    </tr>\n",
              "  </thead>\n",
              "  <tbody>\n",
              "    <tr>\n",
              "      <td>0</td>\n",
              "      <td>0.512368</td>\n",
              "      <td>0.396333</td>\n",
              "      <td>0.834802</td>\n",
              "      <td>00:26</td>\n",
              "    </tr>\n",
              "    <tr>\n",
              "      <td>1</td>\n",
              "      <td>0.472430</td>\n",
              "      <td>0.384421</td>\n",
              "      <td>0.840371</td>\n",
              "      <td>00:26</td>\n",
              "    </tr>\n",
              "  </tbody>\n",
              "</table>"
            ],
            "text/plain": [
              "<IPython.core.display.HTML object>"
            ]
          },
          "metadata": {
            "tags": []
          }
        }
      ]
    },
    {
      "cell_type": "code",
      "metadata": {
        "id": "mpuo8qPItt4u"
      },
      "source": [
        "multiclass.freeze_to(-4)\n",
        "# multiclass.lr_find() # 4e-2 should be fine"
      ],
      "execution_count": 84,
      "outputs": []
    },
    {
      "cell_type": "code",
      "metadata": {
        "id": "m2GvQN0OuAhC",
        "outputId": "c2f2af64-29c8-4094-aaf9-0fa66c799f26",
        "colab": {
          "base_uri": "https://localhost:8080/",
          "height": 112
        }
      },
      "source": [
        "multiclass.fit_one_cycle(2, slice(4e-2/lr_inc, 4e-2))"
      ],
      "execution_count": 85,
      "outputs": [
        {
          "output_type": "display_data",
          "data": {
            "text/html": [
              "<table border=\"1\" class=\"dataframe\">\n",
              "  <thead>\n",
              "    <tr style=\"text-align: left;\">\n",
              "      <th>epoch</th>\n",
              "      <th>train_loss</th>\n",
              "      <th>valid_loss</th>\n",
              "      <th>accuracy_multi</th>\n",
              "      <th>time</th>\n",
              "    </tr>\n",
              "  </thead>\n",
              "  <tbody>\n",
              "    <tr>\n",
              "      <td>0</td>\n",
              "      <td>0.366328</td>\n",
              "      <td>0.315539</td>\n",
              "      <td>0.881379</td>\n",
              "      <td>00:27</td>\n",
              "    </tr>\n",
              "    <tr>\n",
              "      <td>1</td>\n",
              "      <td>0.296507</td>\n",
              "      <td>0.258033</td>\n",
              "      <td>0.903554</td>\n",
              "      <td>00:27</td>\n",
              "    </tr>\n",
              "  </tbody>\n",
              "</table>"
            ],
            "text/plain": [
              "<IPython.core.display.HTML object>"
            ]
          },
          "metadata": {
            "tags": []
          }
        }
      ]
    },
    {
      "cell_type": "markdown",
      "metadata": {
        "id": "34C4dJ1SwkJ1"
      },
      "source": [
        "90% accuracy before final unfreezing, pretty good!"
      ]
    },
    {
      "cell_type": "code",
      "metadata": {
        "id": "3xaUlpLDuV2q"
      },
      "source": [
        "multiclass.unfreeze()\n",
        "# multiclass.lr_find() # 2e-5 to 2e-3"
      ],
      "execution_count": 88,
      "outputs": []
    },
    {
      "cell_type": "code",
      "metadata": {
        "id": "jECThRPZv8C6",
        "outputId": "46b0050a-b732-4857-c1d4-a4068ea633a3",
        "colab": {
          "base_uri": "https://localhost:8080/"
        }
      },
      "source": [
        "multiclass.save('multiclass_penultimate')"
      ],
      "execution_count": 89,
      "outputs": [
        {
          "output_type": "execute_result",
          "data": {
            "text/plain": [
              "Path('models/multiclass_penultimate.pth')"
            ]
          },
          "metadata": {
            "tags": []
          },
          "execution_count": 89
        }
      ]
    },
    {
      "cell_type": "code",
      "metadata": {
        "id": "3i061F5Ouyaz",
        "outputId": "327d44fa-f94c-4594-a7f1-0a9cd3b566f3",
        "colab": {
          "base_uri": "https://localhost:8080/",
          "height": 144
        }
      },
      "source": [
        "multiclass = multiclass.load('multiclass_penultimate')\n",
        "multiclass.fit_one_cycle(3, lr_max=slice(2e-5, 2e-3))"
      ],
      "execution_count": 94,
      "outputs": [
        {
          "output_type": "display_data",
          "data": {
            "text/html": [
              "<table border=\"1\" class=\"dataframe\">\n",
              "  <thead>\n",
              "    <tr style=\"text-align: left;\">\n",
              "      <th>epoch</th>\n",
              "      <th>train_loss</th>\n",
              "      <th>valid_loss</th>\n",
              "      <th>accuracy_multi</th>\n",
              "      <th>time</th>\n",
              "    </tr>\n",
              "  </thead>\n",
              "  <tbody>\n",
              "    <tr>\n",
              "      <td>0</td>\n",
              "      <td>0.256318</td>\n",
              "      <td>0.253008</td>\n",
              "      <td>0.906288</td>\n",
              "      <td>00:27</td>\n",
              "    </tr>\n",
              "    <tr>\n",
              "      <td>1</td>\n",
              "      <td>0.243068</td>\n",
              "      <td>0.248292</td>\n",
              "      <td>0.908161</td>\n",
              "      <td>00:27</td>\n",
              "    </tr>\n",
              "    <tr>\n",
              "      <td>2</td>\n",
              "      <td>0.235425</td>\n",
              "      <td>0.248502</td>\n",
              "      <td>0.907858</td>\n",
              "      <td>00:27</td>\n",
              "    </tr>\n",
              "  </tbody>\n",
              "</table>"
            ],
            "text/plain": [
              "<IPython.core.display.HTML object>"
            ]
          },
          "metadata": {
            "tags": []
          }
        }
      ]
    },
    {
      "cell_type": "code",
      "metadata": {
        "id": "hMCj_2XyxAgY",
        "outputId": "fe57ead1-2a6d-4eed-cc5b-ff7b27ff68ef",
        "colab": {
          "base_uri": "https://localhost:8080/",
          "height": 265
        }
      },
      "source": [
        "multiclass.recorder.plot_loss()"
      ],
      "execution_count": 95,
      "outputs": [
        {
          "output_type": "display_data",
          "data": {
            "image/png": "[encoded data removed]",
            "text/plain": [
              "<Figure size 432x288 with 1 Axes>"
            ]
          },
          "metadata": {
            "tags": [],
            "needs_background": "light"
          }
        }
      ]
    },
    {
      "cell_type": "markdown",
      "metadata": {
        "id": "lIWW0j1zxuSV"
      },
      "source": [
        "Able to squeeze out an extra % or so from training the unfrozen model. Overall pretty happy with this barebones model performance!"
      ]
    },
    {
      "cell_type": "markdown",
      "metadata": {
        "id": "w4nnXh7XRjWT"
      },
      "source": [
        "## Fine-tuning next steps\n",
        "1. Label data w/ no ```colorID``` attribute such that truly colorless cards are represented while lands aren't\n",
        "2. Augment the dataset. Current data is a bit sparse.\n",
        "3. Filter the text more to handle tokens such as `{T}` more effectively. This will be important to produce realistic cards given MTG's reliance on these symbols\n",
        "4. Apply ULMFiT to train language model - right now just trained on MTG card text data which isn't that comprehensive"
      ]
    }
  ]
}