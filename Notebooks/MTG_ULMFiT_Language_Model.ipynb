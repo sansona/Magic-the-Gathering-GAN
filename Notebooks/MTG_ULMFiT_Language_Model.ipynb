{
  "nbformat": 4,
  "nbformat_minor": 0,
  "metadata": {
    "colab": {
      "name": "MTG ULMFiT Language Model ",
      "provenance": []
    },
    "kernelspec": {
      "name": "python3",
      "display_name": "Python 3"
    },
    "accelerator": "GPU"
  },
  "cells": [
    {
      "cell_type": "markdown",
      "metadata": {
        "id": "j6K2mMbS1_un"
      },
      "source": [
        "### This is a notebook utilizing fastai/pytorch to train a language model on historic MTG card data"
      ]
    },
    {
      "cell_type": "code",
      "metadata": {
        "id": "p4_HD7G9zYLv",
        "outputId": "e8cda2d2-3d48-41d5-be19-b0bdfada5116",
        "colab": {
          "base_uri": "https://localhost:8080/",
          "height": 992
        }
      },
      "source": [
        "from statistics import mean, median\n",
        "import json\n",
        "import pandas as pd\n",
        "import numpy as np\n",
        "!pip install fastai --upgrade\n",
        "!pip install fastcore --upgrade\n",
        "from fastai.text.all import *"
      ],
      "execution_count": 1,
      "outputs": [
        {
          "output_type": "stream",
          "text": [
            "Collecting fastai\n",
            "\u001b[?25l  Downloading https://files.pythonhosted.org/packages/28/d9/23222f694d28a6bd798f1c0f3600efd31c623ba63115c11d8fd83c83216e/fastai-2.0.16-py3-none-any.whl (187kB)\n",
            "\r\u001b[K     |█▊                              | 10kB 20.1MB/s eta 0:00:01\r\u001b[K     |███▌                            | 20kB 1.8MB/s eta 0:00:01\r\u001b[K     |█████▎                          | 30kB 2.3MB/s eta 0:00:01\r\u001b[K     |███████                         | 40kB 2.6MB/s eta 0:00:01\r\u001b[K     |████████▊                       | 51kB 2.0MB/s eta 0:00:01\r\u001b[K     |██████████▌                     | 61kB 2.3MB/s eta 0:00:01\r\u001b[K     |████████████▏                   | 71kB 2.6MB/s eta 0:00:01\r\u001b[K     |██████████████                  | 81kB 2.8MB/s eta 0:00:01\r\u001b[K     |███████████████▊                | 92kB 3.0MB/s eta 0:00:01\r\u001b[K     |█████████████████▍              | 102kB 2.9MB/s eta 0:00:01\r\u001b[K     |███████████████████▏            | 112kB 2.9MB/s eta 0:00:01\r\u001b[K     |█████████████████████           | 122kB 2.9MB/s eta 0:00:01\r\u001b[K     |██████████████████████▊         | 133kB 2.9MB/s eta 0:00:01\r\u001b[K     |████████████████████████▍       | 143kB 2.9MB/s eta 0:00:01\r\u001b[K     |██████████████████████████▏     | 153kB 2.9MB/s eta 0:00:01\r\u001b[K     |████████████████████████████    | 163kB 2.9MB/s eta 0:00:01\r\u001b[K     |█████████████████████████████▋  | 174kB 2.9MB/s eta 0:00:01\r\u001b[K     |███████████████████████████████▍| 184kB 2.9MB/s eta 0:00:01\r\u001b[K     |████████████████████████████████| 194kB 2.9MB/s \n",
            "\u001b[?25hRequirement already satisfied, skipping upgrade: spacy in /usr/local/lib/python3.6/dist-packages (from fastai) (2.2.4)\n",
            "Requirement already satisfied, skipping upgrade: requests in /usr/local/lib/python3.6/dist-packages (from fastai) (2.23.0)\n",
            "Requirement already satisfied, skipping upgrade: torch>=1.6.0 in /usr/local/lib/python3.6/dist-packages (from fastai) (1.6.0+cu101)\n",
            "Requirement already satisfied, skipping upgrade: scikit-learn in /usr/local/lib/python3.6/dist-packages (from fastai) (0.22.2.post1)\n",
            "Requirement already satisfied, skipping upgrade: pyyaml in /usr/local/lib/python3.6/dist-packages (from fastai) (3.13)\n",
            "Collecting fastcore>=1.1.0\n",
            "\u001b[?25l  Downloading https://files.pythonhosted.org/packages/82/83/c55bcee7b2b660c3dc097bc8a2a28910b0c01577f93fa627a2594005287e/fastcore-1.1.2-py3-none-any.whl (42kB)\n",
            "\u001b[K     |████████████████████████████████| 51kB 7.2MB/s \n",
            "\u001b[?25hRequirement already satisfied, skipping upgrade: torchvision>=0.7 in /usr/local/lib/python3.6/dist-packages (from fastai) (0.7.0+cu101)\n",
            "Requirement already satisfied, skipping upgrade: pillow in /usr/local/lib/python3.6/dist-packages (from fastai) (7.0.0)\n",
            "Requirement already satisfied, skipping upgrade: scipy in /usr/local/lib/python3.6/dist-packages (from fastai) (1.4.1)\n",
            "Requirement already satisfied, skipping upgrade: fastprogress>=0.2.4 in /usr/local/lib/python3.6/dist-packages (from fastai) (1.0.0)\n",
            "Requirement already satisfied, skipping upgrade: matplotlib in /usr/local/lib/python3.6/dist-packages (from fastai) (3.2.2)\n",
            "Requirement already satisfied, skipping upgrade: pip in /usr/local/lib/python3.6/dist-packages (from fastai) (19.3.1)\n",
            "Requirement already satisfied, skipping upgrade: pandas in /usr/local/lib/python3.6/dist-packages (from fastai) (1.1.2)\n",
            "Requirement already satisfied, skipping upgrade: packaging in /usr/local/lib/python3.6/dist-packages (from fastai) (20.4)\n",
            "Requirement already satisfied, skipping upgrade: srsly<1.1.0,>=1.0.2 in /usr/local/lib/python3.6/dist-packages (from spacy->fastai) (1.0.2)\n",
            "Requirement already satisfied, skipping upgrade: preshed<3.1.0,>=3.0.2 in /usr/local/lib/python3.6/dist-packages (from spacy->fastai) (3.0.2)\n",
            "Requirement already satisfied, skipping upgrade: cymem<2.1.0,>=2.0.2 in /usr/local/lib/python3.6/dist-packages (from spacy->fastai) (2.0.3)\n",
            "Requirement already satisfied, skipping upgrade: murmurhash<1.1.0,>=0.28.0 in /usr/local/lib/python3.6/dist-packages (from spacy->fastai) (1.0.2)\n",
            "Requirement already satisfied, skipping upgrade: plac<1.2.0,>=0.9.6 in /usr/local/lib/python3.6/dist-packages (from spacy->fastai) (1.1.3)\n",
            "Requirement already satisfied, skipping upgrade: tqdm<5.0.0,>=4.38.0 in /usr/local/lib/python3.6/dist-packages (from spacy->fastai) (4.41.1)\n",
            "Requirement already satisfied, skipping upgrade: catalogue<1.1.0,>=0.0.7 in /usr/local/lib/python3.6/dist-packages (from spacy->fastai) (1.0.0)\n",
            "Requirement already satisfied, skipping upgrade: wasabi<1.1.0,>=0.4.0 in /usr/local/lib/python3.6/dist-packages (from spacy->fastai) (0.8.0)\n",
            "Requirement already satisfied, skipping upgrade: setuptools in /usr/local/lib/python3.6/dist-packages (from spacy->fastai) (50.3.0)\n",
            "Requirement already satisfied, skipping upgrade: numpy>=1.15.0 in /usr/local/lib/python3.6/dist-packages (from spacy->fastai) (1.18.5)\n",
            "Requirement already satisfied, skipping upgrade: blis<0.5.0,>=0.4.0 in /usr/local/lib/python3.6/dist-packages (from spacy->fastai) (0.4.1)\n",
            "Requirement already satisfied, skipping upgrade: thinc==7.4.0 in /usr/local/lib/python3.6/dist-packages (from spacy->fastai) (7.4.0)\n",
            "Requirement already satisfied, skipping upgrade: certifi>=2017.4.17 in /usr/local/lib/python3.6/dist-packages (from requests->fastai) (2020.6.20)\n",
            "Requirement already satisfied, skipping upgrade: idna<3,>=2.5 in /usr/local/lib/python3.6/dist-packages (from requests->fastai) (2.10)\n",
            "Requirement already satisfied, skipping upgrade: urllib3!=1.25.0,!=1.25.1,<1.26,>=1.21.1 in /usr/local/lib/python3.6/dist-packages (from requests->fastai) (1.24.3)\n",
            "Requirement already satisfied, skipping upgrade: chardet<4,>=3.0.2 in /usr/local/lib/python3.6/dist-packages (from requests->fastai) (3.0.4)\n",
            "Requirement already satisfied, skipping upgrade: future in /usr/local/lib/python3.6/dist-packages (from torch>=1.6.0->fastai) (0.16.0)\n",
            "Requirement already satisfied, skipping upgrade: joblib>=0.11 in /usr/local/lib/python3.6/dist-packages (from scikit-learn->fastai) (0.16.0)\n",
            "Requirement already satisfied, skipping upgrade: cycler>=0.10 in /usr/local/lib/python3.6/dist-packages (from matplotlib->fastai) (0.10.0)\n",
            "Requirement already satisfied, skipping upgrade: kiwisolver>=1.0.1 in /usr/local/lib/python3.6/dist-packages (from matplotlib->fastai) (1.2.0)\n",
            "Requirement already satisfied, skipping upgrade: python-dateutil>=2.1 in /usr/local/lib/python3.6/dist-packages (from matplotlib->fastai) (2.8.1)\n",
            "Requirement already satisfied, skipping upgrade: pyparsing!=2.0.4,!=2.1.2,!=2.1.6,>=2.0.1 in /usr/local/lib/python3.6/dist-packages (from matplotlib->fastai) (2.4.7)\n",
            "Requirement already satisfied, skipping upgrade: pytz>=2017.2 in /usr/local/lib/python3.6/dist-packages (from pandas->fastai) (2018.9)\n",
            "Requirement already satisfied, skipping upgrade: six in /usr/local/lib/python3.6/dist-packages (from packaging->fastai) (1.15.0)\n",
            "Requirement already satisfied, skipping upgrade: importlib-metadata>=0.20; python_version < \"3.8\" in /usr/local/lib/python3.6/dist-packages (from catalogue<1.1.0,>=0.0.7->spacy->fastai) (2.0.0)\n",
            "Requirement already satisfied, skipping upgrade: zipp>=0.5 in /usr/local/lib/python3.6/dist-packages (from importlib-metadata>=0.20; python_version < \"3.8\"->catalogue<1.1.0,>=0.0.7->spacy->fastai) (3.2.0)\n",
            "Installing collected packages: fastcore, fastai\n",
            "  Found existing installation: fastai 1.0.61\n",
            "    Uninstalling fastai-1.0.61:\n",
            "      Successfully uninstalled fastai-1.0.61\n",
            "Successfully installed fastai-2.0.16 fastcore-1.1.2\n",
            "Requirement already up-to-date: fastcore in /usr/local/lib/python3.6/dist-packages (1.1.2)\n",
            "Requirement already satisfied, skipping upgrade: pip in /usr/local/lib/python3.6/dist-packages (from fastcore) (19.3.1)\n",
            "Requirement already satisfied, skipping upgrade: packaging in /usr/local/lib/python3.6/dist-packages (from fastcore) (20.4)\n",
            "Requirement already satisfied, skipping upgrade: pyparsing>=2.0.2 in /usr/local/lib/python3.6/dist-packages (from packaging->fastcore) (2.4.7)\n",
            "Requirement already satisfied, skipping upgrade: six in /usr/local/lib/python3.6/dist-packages (from packaging->fastcore) (1.15.0)\n"
          ],
          "name": "stdout"
        }
      ]
    },
    {
      "cell_type": "markdown",
      "metadata": {
        "id": "ux5ORgoH2Me_"
      },
      "source": [
        "##Load & format data"
      ]
    },
    {
      "cell_type": "code",
      "metadata": {
        "id": "k8EBN2yBzpj7",
        "outputId": "817a9bd4-3ec6-459d-a530-1d65575a84c0",
        "colab": {
          "base_uri": "https://localhost:8080/",
          "height": 367
        }
      },
      "source": [
        "df = pd.read_csv('cards.csv')\n",
        "df.columns"
      ],
      "execution_count": 2,
      "outputs": [
        {
          "output_type": "stream",
          "text": [
            "/usr/local/lib/python3.6/dist-packages/IPython/core/interactiveshell.py:2718: DtypeWarning: Columns (12,16,19,40,51) have mixed types.Specify dtype option on import or set low_memory=False.\n",
            "  interactivity=interactivity, compiler=compiler, result=result)\n"
          ],
          "name": "stderr"
        },
        {
          "output_type": "execute_result",
          "data": {
            "text/plain": [
              "Index(['index', 'id', 'artist', 'asciiName', 'availability', 'borderColor',\n",
              "       'cardKingdomFoilId', 'cardKingdomId', 'colorIdentity', 'colorIndicator',\n",
              "       'colors', 'convertedManaCost', 'duelDeck', 'edhrecRank',\n",
              "       'faceConvertedManaCost', 'faceName', 'flavorName', 'flavorText',\n",
              "       'frameEffects', 'frameVersion', 'hand', 'hasAlternativeDeckLimit',\n",
              "       'hasContentWarning', 'hasFoil', 'hasNonFoil', 'isAlternative',\n",
              "       'isFullArt', 'isOnlineOnly', 'isOversized', 'isPromo', 'isReprint',\n",
              "       'isReserved', 'isStarter', 'isStorySpotlight', 'isTextless',\n",
              "       'isTimeshifted', 'keywords', 'layout', 'leadershipSkills', 'life',\n",
              "       'loyalty', 'manaCost', 'mcmId', 'mcmMetaId', 'mtgArenaId',\n",
              "       'mtgjsonV4Id', 'mtgoFoilId', 'mtgoId', 'multiverseId', 'name', 'number',\n",
              "       'originalReleaseDate', 'originalText', 'originalType', 'otherFaceIds',\n",
              "       'power', 'printings', 'promoTypes', 'purchaseUrls', 'rarity',\n",
              "       'scryfallId', 'scryfallIllustrationId', 'scryfallOracleId', 'setCode',\n",
              "       'side', 'subtypes', 'supertypes', 'tcgplayerProductId', 'text',\n",
              "       'toughness', 'type', 'types', 'uuid', 'variations', 'watermark'],\n",
              "      dtype='object')"
            ]
          },
          "metadata": {
            "tags": []
          },
          "execution_count": 2
        }
      ]
    },
    {
      "cell_type": "code",
      "metadata": {
        "id": "n43EzdSizzfX",
        "outputId": "1cd48625-e3b6-404e-eac4-734cbf1becf8",
        "colab": {
          "base_uri": "https://localhost:8080/",
          "height": 34
        }
      },
      "source": [
        "df = df[['name', 'colorIdentity', 'colors',\n",
        "         'convertedManaCost', 'manaCost', 'type',\n",
        "         'types', 'power', 'toughness',\n",
        "         'rarity', 'text', 'flavorText', 'uuid']]\n",
        "df.shape"
      ],
      "execution_count": 3,
      "outputs": [
        {
          "output_type": "execute_result",
          "data": {
            "text/plain": [
              "(54920, 13)"
            ]
          },
          "metadata": {
            "tags": []
          },
          "execution_count": 3
        }
      ]
    },
    {
      "cell_type": "code",
      "metadata": {
        "id": "qYH5dgpb0mKb"
      },
      "source": [
        "df.rename(columns={'convertedManaCost': 'cmc',\n",
        "           'manaCost': 'mana_cost',\n",
        "           'colorIdentity': 'colorID',\n",
        "           'type': 'main_type',\n",
        "           'types': 'all_types',\n",
        "           'flavorText': 'flavor_text'},\n",
        "          inplace=True)"
      ],
      "execution_count": 4,
      "outputs": []
    },
    {
      "cell_type": "markdown",
      "metadata": {
        "id": "L1uhyUSR2VTo"
      },
      "source": [
        "Create some new columns that may be useful later on"
      ]
    },
    {
      "cell_type": "code",
      "metadata": {
        "id": "vt2KMEEb0r3I"
      },
      "source": [
        "df['contains_W'] = df['colors'].str.contains('W', case=True, na=False, regex=False)\n",
        "df['contains_U'] = df['colors'].str.contains('U', case=True, na=False, regex=False)\n",
        "df['contains_B'] = df['colors'].str.contains('B', case=True, na=False, regex=False)\n",
        "df['contains_R'] = df['colors'].str.contains('R', case=True, na=False, regex=False)\n",
        "df['contains_G'] = df['colors'].str.contains('G', case=True, na=False, regex=False)\n",
        "df['is_colorless'] = df['colors'].eq('')\n",
        "df['is_multicolor'] = (df['colorID'].str.len() > 1) & (df['main_type'] != 'Land')"
      ],
      "execution_count": 5,
      "outputs": []
    },
    {
      "cell_type": "code",
      "metadata": {
        "id": "WpQ7eS821T_K"
      },
      "source": [
        "df['is_creature'] = df['all_types'].str.contains('creature|summon', case=False, na=False, regex=True)\n",
        "df['is_instant'] = df['all_types'].str.contains('instant', case=False, na=False, regex=False)\n",
        "df['is_enchantment'] = df['all_types'].str.contains('enchantment', case=False, na=False, regex=False)\n",
        "df['is_sorcery'] = df['all_types'].str.contains('sorcery', case=False, na=False, regex=False)\n",
        "df['is_artifact'] = df['all_types'].str.contains('artifact', case=False, na=False, regex=False)\n",
        "df['is_planeswalker'] = df['all_types'].str.contains('planeswalker', case=False, na=False, regex=False)\n",
        "df['is_land'] = df['all_types'].str.contains('land', case=False, na=False, regex=False)"
      ],
      "execution_count": 6,
      "outputs": []
    },
    {
      "cell_type": "markdown",
      "metadata": {
        "id": "u1k3J7hd2ZlR"
      },
      "source": [
        "Drop rows with outlier features"
      ]
    },
    {
      "cell_type": "code",
      "metadata": {
        "id": "0Grlrj6s18Pe"
      },
      "source": [
        "df = df.groupby('main_type').filter(lambda x: len(x) > 4)\n",
        "df = df.groupby('all_types').filter(lambda x: len(x) > 10)"
      ],
      "execution_count": 7,
      "outputs": []
    },
    {
      "cell_type": "code",
      "metadata": {
        "id": "pbTA39Tx2T3z",
        "outputId": "7d1f452e-1013-4d6d-c47f-8b9a4b56de8a",
        "colab": {
          "base_uri": "https://localhost:8080/",
          "height": 34
        }
      },
      "source": [
        "drop_power = df.loc[(df['is_creature']) & (~df['power'].isin([str(i) for i in range(20)]))]\n",
        "drop_toughness = df.loc[(df['is_creature']) & (~df['toughness'].isin([str(i) for i in range(15)]))]\n",
        "drop_cmc = df.loc[df['cmc'].isin([1000000.0])]\n",
        "drop_colorID = df.loc[df['colorID'].isin(['GRUW', 'BGRW', 'BGUW', 'BRUW', 'BGRU'])]\n",
        "\n",
        "all_drops = pd.concat([drop_power, drop_toughness, drop_cmc, drop_colorID])\n",
        "df.drop(all_drops.index, inplace=True)\n",
        "df.shape"
      ],
      "execution_count": 8,
      "outputs": [
        {
          "output_type": "execute_result",
          "data": {
            "text/plain": [
              "(52088, 27)"
            ]
          },
          "metadata": {
            "tags": []
          },
          "execution_count": 8
        }
      ]
    },
    {
      "cell_type": "markdown",
      "metadata": {
        "id": "q3M-OrzV2jgN"
      },
      "source": [
        "Drop cards with no ```text``` attributes & replace all colorless cards as with ```colorID``` = ```C``` \n",
        "\n",
        "There is a caveat with colorless labels as they are slightly different from how other colors behave. Colorless mana is part of many cards but is not typically considered part of their identity. For example, a card with a cost of CU is a U card and not a CU card whereas a card that's 3C is a C card. This may add extra complexity to the multilabel effort, but for now continue on and see how often this is a problem in model evaluation"
      ]
    },
    {
      "cell_type": "code",
      "metadata": {
        "id": "IvjN_7d02UQy",
        "outputId": "b4f8df65-edb3-4454-8a56-4f88ca409281",
        "colab": {
          "base_uri": "https://localhost:8080/",
          "height": 159
        }
      },
      "source": [
        "txt_df = df[df['text'].notnull()] \n",
        "txt_df.loc[((txt_df['is_colorless']) & (txt_df['is_land'] == False)), 'colorID'] = 'C'\n",
        "txt_df = txt_df[txt_df['colorID'].notnull()] # Drop any random nans\n",
        "print(f\"Rows dropped: {df.shape[0] - txt_df.shape[0]}\")"
      ],
      "execution_count": 9,
      "outputs": [
        {
          "output_type": "stream",
          "text": [
            "Rows dropped: 6668\n"
          ],
          "name": "stdout"
        },
        {
          "output_type": "stream",
          "text": [
            "/usr/local/lib/python3.6/dist-packages/pandas/core/indexing.py:1765: SettingWithCopyWarning: \n",
            "A value is trying to be set on a copy of a slice from a DataFrame.\n",
            "Try using .loc[row_indexer,col_indexer] = value instead\n",
            "\n",
            "See the caveats in the documentation: https://pandas.pydata.org/pandas-docs/stable/user_guide/indexing.html#returning-a-view-versus-a-copy\n",
            "  isetter(loc, value)\n"
          ],
          "name": "stderr"
        }
      ]
    },
    {
      "cell_type": "markdown",
      "metadata": {
        "id": "1zguvcpF2qI9"
      },
      "source": [
        "##Tokenize & numericalize data"
      ]
    },
    {
      "cell_type": "code",
      "metadata": {
        "id": "ZT-j0mTm2oDJ",
        "outputId": "5b0836af-0a56-4557-feff-e53f71b5949a",
        "colab": {
          "base_uri": "https://localhost:8080/",
          "height": 34
        }
      },
      "source": [
        "txts = L(txt_df['text'].to_list())\n",
        "len(txts)"
      ],
      "execution_count": 10,
      "outputs": [
        {
          "output_type": "execute_result",
          "data": {
            "text/plain": [
              "45420"
            ]
          },
          "metadata": {
            "tags": []
          },
          "execution_count": 10
        }
      ]
    },
    {
      "cell_type": "code",
      "metadata": {
        "id": "Pbyicto82t2q",
        "outputId": "98f7a274-66fd-440f-9935-78c244096775",
        "colab": {
          "base_uri": "https://localhost:8080/",
          "height": 34
        }
      },
      "source": [
        "tkn = Tokenizer(WordTokenizer())\n",
        "tokens = txts.map(tkn)\n",
        "tokens[0]"
      ],
      "execution_count": 11,
      "outputs": [
        {
          "output_type": "execute_result",
          "data": {
            "text/plain": [
              "(#60) ['xxbos','xxmaj','if','you','would','draw','a','card',',','you'...]"
            ]
          },
          "metadata": {
            "tags": []
          },
          "execution_count": 11
        }
      ]
    },
    {
      "cell_type": "code",
      "metadata": {
        "id": "RzQfNv2w2vH5"
      },
      "source": [
        "num = Numericalize(min_freq=5)\n",
        "num.setup(tkn(tokens))\n",
        "# fcoll_repr(num.vocab, 200)"
      ],
      "execution_count": 12,
      "outputs": []
    },
    {
      "cell_type": "code",
      "metadata": {
        "id": "Il97V4hR2w6c",
        "outputId": "508f2efa-1e41-492c-8a41-e7da123afa11",
        "colab": {
          "base_uri": "https://localhost:8080/",
          "height": 34
        }
      },
      "source": [
        "# Apply numericalizer to all text and load into dataloader\n",
        "numericalized = tokens.map(num)\n",
        "dl = LMDataLoader(numericalized, bs=128, shuffle=True)\n",
        "\n",
        "x, y = first(dl)\n",
        "x.shape, y.shape"
      ],
      "execution_count": 13,
      "outputs": [
        {
          "output_type": "execute_result",
          "data": {
            "text/plain": [
              "(torch.Size([128, 72]), torch.Size([128, 72]))"
            ]
          },
          "metadata": {
            "tags": []
          },
          "execution_count": 13
        }
      ]
    },
    {
      "cell_type": "markdown",
      "metadata": {
        "id": "BjIdL4ck21FU"
      },
      "source": [
        "```fastai``` handles the tokenization & numericalization in the ```TextDataLoaders``` object so will transition to that, but nice to see that the process works as intended here"
      ]
    },
    {
      "cell_type": "markdown",
      "metadata": {
        "id": "AlGrv-xP23S0"
      },
      "source": [
        "##Train language model"
      ]
    },
    {
      "cell_type": "code",
      "metadata": {
        "id": "gVMRG3ru28sL",
        "outputId": "05df5852-899b-4c27-9db2-a4942a9ed0ae",
        "colab": {
          "base_uri": "https://localhost:8080/",
          "height": 17
        }
      },
      "source": [
        "dls = TextDataLoaders.from_df(txt_df, text_col='text', is_lm=True)"
      ],
      "execution_count": 14,
      "outputs": [
        {
          "output_type": "display_data",
          "data": {
            "text/html": [
              ""
            ],
            "text/plain": [
              "<IPython.core.display.HTML object>"
            ]
          },
          "metadata": {
            "tags": []
          }
        }
      ]
    },
    {
      "cell_type": "code",
      "metadata": {
        "id": "Ai3lbj_p2yqL",
        "outputId": "a5b84195-67a4-4167-f48d-2201cedffbbc",
        "colab": {
          "base_uri": "https://localhost:8080/",
          "height": 17
        }
      },
      "source": [
        "# Using a high drop_mult value here. In practice, it doesn't seem to matter \n",
        "# much but erring on the side of caution given small dataset\n",
        "model = language_model_learner(dls,\n",
        "                               AWD_LSTM,\n",
        "                               drop_mult=0.8,\n",
        "                               metrics=[accuracy, Perplexity()]).to_fp16()\n",
        "\n",
        "# model.lr_find() #2e-2"
      ],
      "execution_count": 15,
      "outputs": [
        {
          "output_type": "display_data",
          "data": {
            "text/html": [
              ""
            ],
            "text/plain": [
              "<IPython.core.display.HTML object>"
            ]
          },
          "metadata": {
            "tags": []
          }
        }
      ]
    },
    {
      "cell_type": "code",
      "metadata": {
        "id": "TIWRXNyX26El",
        "outputId": "1a050a82-8958-4554-c72c-f9b851e46c7b",
        "colab": {
          "base_uri": "https://localhost:8080/",
          "height": 333
        }
      },
      "source": [
        "model.fit_one_cycle(1, 2e-2)\n",
        "model.unfreeze()\n",
        "model.fit_one_cycle(7, 2e-3)"
      ],
      "execution_count": 16,
      "outputs": [
        {
          "output_type": "display_data",
          "data": {
            "text/html": [
              "<table border=\"1\" class=\"dataframe\">\n",
              "  <thead>\n",
              "    <tr style=\"text-align: left;\">\n",
              "      <th>epoch</th>\n",
              "      <th>train_loss</th>\n",
              "      <th>valid_loss</th>\n",
              "      <th>accuracy</th>\n",
              "      <th>perplexity</th>\n",
              "      <th>time</th>\n",
              "    </tr>\n",
              "  </thead>\n",
              "  <tbody>\n",
              "    <tr>\n",
              "      <td>0</td>\n",
              "      <td>1.845841</td>\n",
              "      <td>1.366548</td>\n",
              "      <td>0.673028</td>\n",
              "      <td>3.921791</td>\n",
              "      <td>01:03</td>\n",
              "    </tr>\n",
              "  </tbody>\n",
              "</table>"
            ],
            "text/plain": [
              "<IPython.core.display.HTML object>"
            ]
          },
          "metadata": {
            "tags": []
          }
        },
        {
          "output_type": "display_data",
          "data": {
            "text/html": [
              "<table border=\"1\" class=\"dataframe\">\n",
              "  <thead>\n",
              "    <tr style=\"text-align: left;\">\n",
              "      <th>epoch</th>\n",
              "      <th>train_loss</th>\n",
              "      <th>valid_loss</th>\n",
              "      <th>accuracy</th>\n",
              "      <th>perplexity</th>\n",
              "      <th>time</th>\n",
              "    </tr>\n",
              "  </thead>\n",
              "  <tbody>\n",
              "    <tr>\n",
              "      <td>0</td>\n",
              "      <td>1.370216</td>\n",
              "      <td>1.051953</td>\n",
              "      <td>0.744060</td>\n",
              "      <td>2.863237</td>\n",
              "      <td>01:03</td>\n",
              "    </tr>\n",
              "    <tr>\n",
              "      <td>1</td>\n",
              "      <td>1.079453</td>\n",
              "      <td>0.861372</td>\n",
              "      <td>0.789143</td>\n",
              "      <td>2.366406</td>\n",
              "      <td>01:04</td>\n",
              "    </tr>\n",
              "    <tr>\n",
              "      <td>2</td>\n",
              "      <td>0.930761</td>\n",
              "      <td>0.761685</td>\n",
              "      <td>0.813554</td>\n",
              "      <td>2.141882</td>\n",
              "      <td>01:03</td>\n",
              "    </tr>\n",
              "    <tr>\n",
              "      <td>3</td>\n",
              "      <td>0.830779</td>\n",
              "      <td>0.699894</td>\n",
              "      <td>0.829717</td>\n",
              "      <td>2.013539</td>\n",
              "      <td>01:03</td>\n",
              "    </tr>\n",
              "    <tr>\n",
              "      <td>4</td>\n",
              "      <td>0.751595</td>\n",
              "      <td>0.660373</td>\n",
              "      <td>0.840631</td>\n",
              "      <td>1.935515</td>\n",
              "      <td>01:04</td>\n",
              "    </tr>\n",
              "    <tr>\n",
              "      <td>5</td>\n",
              "      <td>0.706569</td>\n",
              "      <td>0.641698</td>\n",
              "      <td>0.846318</td>\n",
              "      <td>1.899705</td>\n",
              "      <td>01:03</td>\n",
              "    </tr>\n",
              "    <tr>\n",
              "      <td>6</td>\n",
              "      <td>0.689270</td>\n",
              "      <td>0.639018</td>\n",
              "      <td>0.847027</td>\n",
              "      <td>1.894620</td>\n",
              "      <td>01:04</td>\n",
              "    </tr>\n",
              "  </tbody>\n",
              "</table>"
            ],
            "text/plain": [
              "<IPython.core.display.HTML object>"
            ]
          },
          "metadata": {
            "tags": []
          }
        }
      ]
    },
    {
      "cell_type": "markdown",
      "metadata": {
        "id": "vHoULF-t3Awa"
      },
      "source": [
        "Pretty solid. This should be good to build upon. Let's test some test card generation"
      ]
    },
    {
      "cell_type": "code",
      "metadata": {
        "id": "Bksmn-fZ2-SM",
        "outputId": "2326c558-717a-471a-d60f-fa6bda09c7fc",
        "colab": {
          "base_uri": "https://localhost:8080/",
          "height": 506
        }
      },
      "source": [
        "test_txt = \"Draw a card for\"\n",
        "n_words = 40   \n",
        "n_sentences = 10\n",
        "preds = [model.predict(test_txt, n_words) for _ in range(n_sentences)]\n",
        "print(\"\\n\\n\".join(preds))"
      ],
      "execution_count": 17,
      "outputs": [
        {
          "output_type": "display_data",
          "data": {
            "text/html": [
              ""
            ],
            "text/plain": [
              "<IPython.core.display.HTML object>"
            ]
          },
          "metadata": {
            "tags": []
          }
        },
        {
          "output_type": "display_data",
          "data": {
            "text/html": [
              ""
            ],
            "text/plain": [
              "<IPython.core.display.HTML object>"
            ]
          },
          "metadata": {
            "tags": []
          }
        },
        {
          "output_type": "display_data",
          "data": {
            "text/html": [
              ""
            ],
            "text/plain": [
              "<IPython.core.display.HTML object>"
            ]
          },
          "metadata": {
            "tags": []
          }
        },
        {
          "output_type": "display_data",
          "data": {
            "text/html": [
              ""
            ],
            "text/plain": [
              "<IPython.core.display.HTML object>"
            ]
          },
          "metadata": {
            "tags": []
          }
        },
        {
          "output_type": "display_data",
          "data": {
            "text/html": [
              ""
            ],
            "text/plain": [
              "<IPython.core.display.HTML object>"
            ]
          },
          "metadata": {
            "tags": []
          }
        },
        {
          "output_type": "display_data",
          "data": {
            "text/html": [
              ""
            ],
            "text/plain": [
              "<IPython.core.display.HTML object>"
            ]
          },
          "metadata": {
            "tags": []
          }
        },
        {
          "output_type": "display_data",
          "data": {
            "text/html": [
              ""
            ],
            "text/plain": [
              "<IPython.core.display.HTML object>"
            ]
          },
          "metadata": {
            "tags": []
          }
        },
        {
          "output_type": "display_data",
          "data": {
            "text/html": [
              ""
            ],
            "text/plain": [
              "<IPython.core.display.HTML object>"
            ]
          },
          "metadata": {
            "tags": []
          }
        },
        {
          "output_type": "display_data",
          "data": {
            "text/html": [
              ""
            ],
            "text/plain": [
              "<IPython.core.display.HTML object>"
            ]
          },
          "metadata": {
            "tags": []
          }
        },
        {
          "output_type": "display_data",
          "data": {
            "text/html": [
              ""
            ],
            "text/plain": [
              "<IPython.core.display.HTML object>"
            ]
          },
          "metadata": {
            "tags": []
          }
        },
        {
          "output_type": "stream",
          "text": [
            "Draw a card for each white creature you control . Flying , protection from black \n",
            " At the beginning of your end step , if Whirling Dervish dealt damage to an opponent this turn , put a +1 /\n",
            "\n",
            "Draw a card for each creature you control with a +1 / +1 counter on it . Pirate Ship ca n't attack unless defending player controls an Island . \n",
            " { t } : Pirate Ship deals 1\n",
            "\n",
            "Draw a card for each creature you control with power 4 or greater . Whenever you cast a Spirit or Arcane spell , you may untap Opportunistic Dragon . \n",
            " For each t } : Gain\n",
            "\n",
            "Draw a card for each attacking creature with a +1 / +1 counter on it . Destroy target creature or land . { t } : Draw a card , then discard a card . \n",
            " { b } ,\n",
            "\n",
            "Draw a card for each tapped creature target opponent controls . ( { t } : Add { g } . ) Whenever you cast an instant or sorcery spell , Guttersnipe deals 2 damage to each opponent .\n",
            "\n",
            "Draw a card for each enchantment you control . \n",
            " { g}{u } : You may put a land , creature , or land card from your hand onto the battlefield . Search your library for a card , put that\n",
            "\n",
            "Draw a card for each creature you control . Draw four cards . \n",
            " Flashback { 3}{r } ( you may cast this card from your graveyard for its flashback cost . Then exile it . ) Mutate\n",
            "\n",
            "Draw a card for each creature you control with a +1 / +1 counter on it . Scrapskin Drake can block only creatures with flying . If a source would deal damage to a permanent or player , it\n",
            "\n",
            "Draw a card for each Aura attached to it . \n",
            " Overload { x}{b}{b } ( you may cast this spell for its overload cost . If you do , change its text by replacing all instances of \" target \"\n",
            "\n",
            "Draw a card for each creature you control with a +1 / +1 counter on it . Creatures you control gain indestructible until end of turn . \n",
            " Dredge 3 ( if you would draw a card at the beginning of\n"
          ],
          "name": "stdout"
        }
      ]
    },
    {
      "cell_type": "markdown",
      "metadata": {
        "id": "T45ynPIO3i_s"
      },
      "source": [
        "They come out pretty nice! Save the model & the encoder for future use"
      ]
    },
    {
      "cell_type": "code",
      "metadata": {
        "id": "5RoBIqhK3FiU"
      },
      "source": [
        "model.save('MTG_language_model')\n",
        "model.save_encoder('MTG_language_encoder')"
      ],
      "execution_count": 18,
      "outputs": []
    },
    {
      "cell_type": "code",
      "metadata": {
        "id": "SZT2_ZQz4UPE"
      },
      "source": [
        "df.to_csv('Language_card.csv', index=None)"
      ],
      "execution_count": 19,
      "outputs": []
    }
  ]
}