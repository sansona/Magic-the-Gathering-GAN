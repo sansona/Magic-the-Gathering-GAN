{
  "nbformat": 4,
  "nbformat_minor": 0,
  "metadata": {
    "colab": {
      "name": "MTG Text-to-Color Classifier",
      "provenance": [],
      "toc_visible": true
    },
    "kernelspec": {
      "name": "python3",
      "display_name": "Python 3"
    },
    "accelerator": "GPU"
  },
  "cells": [
    {
      "cell_type": "markdown",
      "metadata": {
        "id": "NVWnN_d85vot"
      },
      "source": [
        "###This is a classifier that classifies card color identity based off the text of a card"
      ]
    },
    {
      "cell_type": "code",
      "metadata": {
        "id": "KZ8FtMen4Aon"
      },
      "source": [
        "from statistics import mean, median\n",
        "import json\n",
        "import pandas as pd\n",
        "import numpy as np\n",
        "!pip install fastai --upgrade\n",
        "!pip install fastcore --upgrade\n",
        "from fastai.text.all import *"
      ],
      "execution_count": null,
      "outputs": []
    },
    {
      "cell_type": "markdown",
      "metadata": {
        "id": "CNxtG27y5332"
      },
      "source": [
        "##Train generic classifier"
      ]
    },
    {
      "cell_type": "code",
      "metadata": {
        "id": "b6klD0F24sgT"
      },
      "source": [
        "df = pd.read_csv('Language_card.csv')"
      ],
      "execution_count": 2,
      "outputs": []
    },
    {
      "cell_type": "code",
      "metadata": {
        "id": "-Q8x5QPFHly6",
        "outputId": "3befd529-4792-4163-af22-17eb2cb9a63a",
        "colab": {
          "base_uri": "https://localhost:8080/",
          "height": 139
        }
      },
      "source": [
        "txt_df = df[df['text'].notnull()] \n",
        "txt_df.loc[((txt_df['is_colorless']) & (txt_df['is_land'] == False)), 'colorID'] = 'C'\n",
        "txt_df = txt_df[txt_df['colorID'].notnull()] # Drop any random nans\n",
        "print(f\"Rows dropped: {df.shape[0] - txt_df.shape[0]}\")"
      ],
      "execution_count": 3,
      "outputs": [
        {
          "output_type": "stream",
          "text": [
            "Rows dropped: 6668\n"
          ],
          "name": "stdout"
        },
        {
          "output_type": "stream",
          "text": [
            "/usr/local/lib/python3.6/dist-packages/pandas/core/indexing.py:1765: SettingWithCopyWarning: \n",
            "A value is trying to be set on a copy of a slice from a DataFrame.\n",
            "Try using .loc[row_indexer,col_indexer] = value instead\n",
            "\n",
            "See the caveats in the documentation: https://pandas.pydata.org/pandas-docs/stable/user_guide/indexing.html#returning-a-view-versus-a-copy\n",
            "  isetter(loc, value)\n"
          ],
          "name": "stderr"
        }
      ]
    },
    {
      "cell_type": "code",
      "metadata": {
        "id": "R0ux_z_j42OI",
        "outputId": "186f59e0-f502-4acc-fca8-b6a11d19b750",
        "colab": {
          "base_uri": "https://localhost:8080/",
          "height": 17
        }
      },
      "source": [
        "db = DataBlock(blocks=(TextBlock.from_df('text'), CategoryBlock),\n",
        "               get_x=ColReader('text'),\n",
        "               get_y=ColReader('colorID'),\n",
        "               splitter=RandomSplitter(0.2))\n",
        "dls = db.dataloaders(txt_df)"
      ],
      "execution_count": 4,
      "outputs": [
        {
          "output_type": "display_data",
          "data": {
            "text/html": [
              ""
            ],
            "text/plain": [
              "<IPython.core.display.HTML object>"
            ]
          },
          "metadata": {
            "tags": []
          }
        }
      ]
    },
    {
      "cell_type": "code",
      "metadata": {
        "id": "LPOrb62546TK",
        "outputId": "6655a2ea-9ee2-4341-bc8b-c9d356ab343c",
        "colab": {
          "base_uri": "https://localhost:8080/",
          "height": 265
        }
      },
      "source": [
        "dls.show_batch(max_n=3)"
      ],
      "execution_count": 5,
      "outputs": [
        {
          "output_type": "display_data",
          "data": {
            "text/html": [
              "<table border=\"1\" class=\"dataframe\">\n",
              "  <thead>\n",
              "    <tr style=\"text-align: right;\">\n",
              "      <th></th>\n",
              "      <th>text</th>\n",
              "      <th>category</th>\n",
              "    </tr>\n",
              "  </thead>\n",
              "  <tbody>\n",
              "    <tr>\n",
              "      <th>0</th>\n",
              "      <td>xxbos { 2 } : xxmaj greater xxmaj morphling gains your choice of banding , bushido 1 , double strike , fear , flying , first strike , haste , landwalk of your choice , protection from a color of your choice , provoke , rampage 1 , shadow , or trample until end of turn . \\n { 2 } : xxmaj greater xxmaj morphling becomes the colors of your choice until end of turn . \\n { 2 } : xxmaj greater xxmaj morphling becomes the creature type of your choice until end of turn . \\n { 2 } : xxmaj greater xxmaj morphling 's expansion symbol becomes the symbol of your choice until end of turn . \\n { 2 } : xxmaj greater xxmaj morphling 's art becomes by the artist of your choice until end of turn . \\n { 2 } : xxmaj</td>\n",
              "      <td>U</td>\n",
              "    </tr>\n",
              "    <tr>\n",
              "      <th>1</th>\n",
              "      <td>xxbos xxmaj fading 7 ( this enchantment enters the battlefield with seven fade counters on it . xxmaj at the beginning of your upkeep , remove a fade counter from it . xxmaj if you ca n't , sacrifice it . ) \\n xxmaj remove a fade counter from xxmaj saproling xxmaj burst : xxmaj create a green xxmaj saproling creature token . xxmaj it has \" this creature 's power and toughness are each equal to the number of fade counters on xxmaj saproling xxmaj burst . \" \\n xxmaj when xxmaj saproling xxmaj burst leaves the battlefield , destroy all tokens created with xxmaj saproling xxmaj burst . xxmaj they ca n't be regenerated . xxpad xxpad xxpad xxpad xxpad xxpad xxpad xxpad xxpad xxpad xxpad xxpad xxpad xxpad xxpad xxpad xxpad xxpad xxpad xxpad xxpad xxpad xxpad xxpad xxpad xxpad xxpad xxpad xxpad xxpad xxpad xxpad xxpad</td>\n",
              "      <td>G</td>\n",
              "    </tr>\n",
              "    <tr>\n",
              "      <th>2</th>\n",
              "      <td>xxbos [ +1 ] : xxmaj you gain 2 life . xxmaj add { u } , { r } , or { w } . xxmaj spend this mana only to cast a noncreature spell . \\n [ −2 ] : xxmaj draw a card , then you may discard a card . xxmaj when you discard a nonland card this way , xxmaj narset of the xxmaj ancient xxmaj way deals damage equal to that card 's converted mana cost to target creature or planeswalker . \\n [ −6 ] : xxmaj you get an emblem with \" whenever you cast a noncreature spell , this emblem deals 2 damage to any target . \" xxpad xxpad xxpad xxpad xxpad xxpad xxpad xxpad xxpad xxpad xxpad xxpad xxpad xxpad xxpad xxpad xxpad xxpad xxpad xxpad xxpad xxpad xxpad xxpad xxpad xxpad xxpad xxpad xxpad xxpad xxpad xxpad xxpad</td>\n",
              "      <td>R,U,W</td>\n",
              "    </tr>\n",
              "  </tbody>\n",
              "</table>"
            ],
            "text/plain": [
              "<IPython.core.display.HTML object>"
            ]
          },
          "metadata": {
            "tags": []
          }
        }
      ]
    },
    {
      "cell_type": "code",
      "metadata": {
        "id": "wCfteq2y47kZ",
        "outputId": "4ce73284-eb62-4f64-9fe3-b87111b450bc",
        "colab": {
          "base_uri": "https://localhost:8080/",
          "height": 573
        }
      },
      "source": [
        "txt_df['colorID'].value_counts()"
      ],
      "execution_count": 6,
      "outputs": [
        {
          "output_type": "execute_result",
          "data": {
            "text/plain": [
              "G            7814\n",
              "B            7755\n",
              "R            7731\n",
              "W            7589\n",
              "U            7561\n",
              "G,W           679\n",
              "G,R           669\n",
              "B,U           657\n",
              "B,R           653\n",
              "U,W           630\n",
              "B,G           534\n",
              "R,U           515\n",
              "B,W           507\n",
              "R,W           500\n",
              "G,U           461\n",
              "B,R,U         152\n",
              "G,U,W         116\n",
              "B,G,R,U,W     116\n",
              "G,R,W         115\n",
              "B,G,R         109\n",
              "B,U,W         101\n",
              "B,R,W          99\n",
              "B,G,W          88\n",
              "B,G,U          84\n",
              "G,R,U          80\n",
              "R,U,W          76\n",
              "G,R,U,W         8\n",
              "B,G,U,W         7\n",
              "B,R,U,W         6\n",
              "B,G,R,W         6\n",
              "B,G,R,U         2\n",
              "Name: colorID, dtype: int64"
            ]
          },
          "metadata": {
            "tags": []
          },
          "execution_count": 6
        }
      ]
    },
    {
      "cell_type": "markdown",
      "metadata": {
        "id": "Sdj_Kh645AGC"
      },
      "source": [
        "Some of the three color & two color categories are pretty low-N. May be a problem. For now, let's try training a model and seeing how it goes\n"
      ]
    },
    {
      "cell_type": "code",
      "metadata": {
        "id": "YbVGiIf349oW",
        "outputId": "6802ad8c-e1ca-49c6-e7b4-402c56c369bf",
        "colab": {
          "base_uri": "https://localhost:8080/",
          "height": 17
        }
      },
      "source": [
        "classifier = text_classifier_learner(dls, AWD_LSTM, drop_mult=0.5, metrics=accuracy).to_fp16()\n",
        "classifier = classifier.load_encoder('MTG_language_encoder') \n",
        "# classifier.lr_find() #3e-3"
      ],
      "execution_count": 7,
      "outputs": [
        {
          "output_type": "display_data",
          "data": {
            "text/html": [
              ""
            ],
            "text/plain": [
              "<IPython.core.display.HTML object>"
            ]
          },
          "metadata": {
            "tags": []
          }
        }
      ]
    },
    {
      "cell_type": "markdown",
      "metadata": {
        "id": "_5J5K_Eu5HwE"
      },
      "source": [
        "Train with discriminative learning rates & gradual unfreezing"
      ]
    },
    {
      "cell_type": "code",
      "metadata": {
        "id": "uMFCHWSX5ID9",
        "outputId": "966a6def-232e-4899-8f40-78f7c980cd88",
        "colab": {
          "base_uri": "https://localhost:8080/",
          "height": 81
        }
      },
      "source": [
        "classifier.fit_one_cycle(1, 3e-3)"
      ],
      "execution_count": 8,
      "outputs": [
        {
          "output_type": "display_data",
          "data": {
            "text/html": [
              "<table border=\"1\" class=\"dataframe\">\n",
              "  <thead>\n",
              "    <tr style=\"text-align: left;\">\n",
              "      <th>epoch</th>\n",
              "      <th>train_loss</th>\n",
              "      <th>valid_loss</th>\n",
              "      <th>accuracy</th>\n",
              "      <th>time</th>\n",
              "    </tr>\n",
              "  </thead>\n",
              "  <tbody>\n",
              "    <tr>\n",
              "      <td>0</td>\n",
              "      <td>1.637322</td>\n",
              "      <td>1.510344</td>\n",
              "      <td>0.544914</td>\n",
              "      <td>00:57</td>\n",
              "    </tr>\n",
              "  </tbody>\n",
              "</table>"
            ],
            "text/plain": [
              "<IPython.core.display.HTML object>"
            ]
          },
          "metadata": {
            "tags": []
          }
        }
      ]
    },
    {
      "cell_type": "code",
      "metadata": {
        "id": "bOgLZRrf5KEJ",
        "outputId": "c0f15731-1095-4f71-807b-40d4181986b2",
        "colab": {
          "base_uri": "https://localhost:8080/",
          "height": 81
        }
      },
      "source": [
        "lr_inc = 2.6**4\n",
        "classifier.freeze_to(-2)\n",
        "classifier.fit_one_cycle(1, slice(2e-3/lr_inc, 2e-3))"
      ],
      "execution_count": 9,
      "outputs": [
        {
          "output_type": "display_data",
          "data": {
            "text/html": [
              "<table border=\"1\" class=\"dataframe\">\n",
              "  <thead>\n",
              "    <tr style=\"text-align: left;\">\n",
              "      <th>epoch</th>\n",
              "      <th>train_loss</th>\n",
              "      <th>valid_loss</th>\n",
              "      <th>accuracy</th>\n",
              "      <th>time</th>\n",
              "    </tr>\n",
              "  </thead>\n",
              "  <tbody>\n",
              "    <tr>\n",
              "      <td>0</td>\n",
              "      <td>1.361624</td>\n",
              "      <td>1.146232</td>\n",
              "      <td>0.691546</td>\n",
              "      <td>00:59</td>\n",
              "    </tr>\n",
              "  </tbody>\n",
              "</table>"
            ],
            "text/plain": [
              "<IPython.core.display.HTML object>"
            ]
          },
          "metadata": {
            "tags": []
          }
        }
      ]
    },
    {
      "cell_type": "code",
      "metadata": {
        "id": "h-gGOg_f5KPy"
      },
      "source": [
        "# classifier.lr_find() #(2e-3, e-4) "
      ],
      "execution_count": 10,
      "outputs": []
    },
    {
      "cell_type": "code",
      "metadata": {
        "id": "0tTa3cxS5Kav",
        "outputId": "663b03ae-62e3-4b31-8316-e4b508ccb600",
        "colab": {
          "base_uri": "https://localhost:8080/",
          "height": 81
        }
      },
      "source": [
        "classifier.freeze_to(-3)\n",
        "classifier.fit_one_cycle(1, slice(2e-3/lr_inc, 2e-3))"
      ],
      "execution_count": 11,
      "outputs": [
        {
          "output_type": "display_data",
          "data": {
            "text/html": [
              "<table border=\"1\" class=\"dataframe\">\n",
              "  <thead>\n",
              "    <tr style=\"text-align: left;\">\n",
              "      <th>epoch</th>\n",
              "      <th>train_loss</th>\n",
              "      <th>valid_loss</th>\n",
              "      <th>accuracy</th>\n",
              "      <th>time</th>\n",
              "    </tr>\n",
              "  </thead>\n",
              "  <tbody>\n",
              "    <tr>\n",
              "      <td>0</td>\n",
              "      <td>1.059711</td>\n",
              "      <td>0.837595</td>\n",
              "      <td>0.763650</td>\n",
              "      <td>01:00</td>\n",
              "    </tr>\n",
              "  </tbody>\n",
              "</table>"
            ],
            "text/plain": [
              "<IPython.core.display.HTML object>"
            ]
          },
          "metadata": {
            "tags": []
          }
        }
      ]
    },
    {
      "cell_type": "code",
      "metadata": {
        "id": "HHBldzeH5KoJ"
      },
      "source": [
        "classifier.unfreeze()\n",
        "# classifier.lr_find() #(2e-3, e-4)"
      ],
      "execution_count": 12,
      "outputs": []
    },
    {
      "cell_type": "code",
      "metadata": {
        "id": "DMJov5st5Kwx",
        "outputId": "4293f229-c809-4a1c-fbd0-fd8d4f29728e",
        "colab": {
          "base_uri": "https://localhost:8080/",
          "height": 112
        }
      },
      "source": [
        "classifier.fit_one_cycle(2, slice(2e-3/lr_inc, 2e-3))"
      ],
      "execution_count": 13,
      "outputs": [
        {
          "output_type": "display_data",
          "data": {
            "text/html": [
              "<table border=\"1\" class=\"dataframe\">\n",
              "  <thead>\n",
              "    <tr style=\"text-align: left;\">\n",
              "      <th>epoch</th>\n",
              "      <th>train_loss</th>\n",
              "      <th>valid_loss</th>\n",
              "      <th>accuracy</th>\n",
              "      <th>time</th>\n",
              "    </tr>\n",
              "  </thead>\n",
              "  <tbody>\n",
              "    <tr>\n",
              "      <td>0</td>\n",
              "      <td>0.874641</td>\n",
              "      <td>0.702304</td>\n",
              "      <td>0.800969</td>\n",
              "      <td>01:02</td>\n",
              "    </tr>\n",
              "    <tr>\n",
              "      <td>1</td>\n",
              "      <td>0.683302</td>\n",
              "      <td>0.600975</td>\n",
              "      <td>0.826948</td>\n",
              "      <td>01:01</td>\n",
              "    </tr>\n",
              "  </tbody>\n",
              "</table>"
            ],
            "text/plain": [
              "<IPython.core.display.HTML object>"
            ]
          },
          "metadata": {
            "tags": []
          }
        }
      ]
    },
    {
      "cell_type": "code",
      "metadata": {
        "id": "v7gEhH1B5W2j"
      },
      "source": [
        "# classifier.lr_find() #3e-3"
      ],
      "execution_count": 14,
      "outputs": []
    },
    {
      "cell_type": "code",
      "metadata": {
        "id": "CSw7Zj-t5XGB",
        "outputId": "d70397b7-626c-4c85-f03b-62633403ccc8",
        "colab": {
          "base_uri": "https://localhost:8080/",
          "height": 175
        }
      },
      "source": [
        "classifier.fit_one_cycle(4, 3e-3)"
      ],
      "execution_count": 15,
      "outputs": [
        {
          "output_type": "display_data",
          "data": {
            "text/html": [
              "<table border=\"1\" class=\"dataframe\">\n",
              "  <thead>\n",
              "    <tr style=\"text-align: left;\">\n",
              "      <th>epoch</th>\n",
              "      <th>train_loss</th>\n",
              "      <th>valid_loss</th>\n",
              "      <th>accuracy</th>\n",
              "      <th>time</th>\n",
              "    </tr>\n",
              "  </thead>\n",
              "  <tbody>\n",
              "    <tr>\n",
              "      <td>0</td>\n",
              "      <td>0.899386</td>\n",
              "      <td>0.769250</td>\n",
              "      <td>0.774218</td>\n",
              "      <td>01:02</td>\n",
              "    </tr>\n",
              "    <tr>\n",
              "      <td>1</td>\n",
              "      <td>0.626607</td>\n",
              "      <td>0.551853</td>\n",
              "      <td>0.843131</td>\n",
              "      <td>01:02</td>\n",
              "    </tr>\n",
              "    <tr>\n",
              "      <td>2</td>\n",
              "      <td>0.428946</td>\n",
              "      <td>0.409351</td>\n",
              "      <td>0.883091</td>\n",
              "      <td>01:02</td>\n",
              "    </tr>\n",
              "    <tr>\n",
              "      <td>3</td>\n",
              "      <td>0.283474</td>\n",
              "      <td>0.381045</td>\n",
              "      <td>0.893549</td>\n",
              "      <td>01:01</td>\n",
              "    </tr>\n",
              "  </tbody>\n",
              "</table>"
            ],
            "text/plain": [
              "<IPython.core.display.HTML object>"
            ]
          },
          "metadata": {
            "tags": []
          }
        }
      ]
    },
    {
      "cell_type": "code",
      "metadata": {
        "id": "VskuyXUY5XV4",
        "outputId": "7a682336-5c9b-4a9a-fdfc-ee82d58e47c4",
        "colab": {
          "base_uri": "https://localhost:8080/",
          "height": 265
        }
      },
      "source": [
        "classifier.recorder.plot_loss()"
      ],
      "execution_count": 16,
      "outputs": [
        {
          "output_type": "display_data",
          "data": {
            "image/png": "[encoded data removed]",
            "text/plain": [
              "<Figure size 432x288 with 1 Axes>"
            ]
          },
          "metadata": {
            "tags": [],
            "needs_background": "light"
          }
        }
      ]
    },
    {
      "cell_type": "markdown",
      "metadata": {
        "id": "XWT-zppJ5gCj"
      },
      "source": [
        "Looks like we can probably get a couple more % higher accuracy but not too crazy about this model thus far. Probably try a multilabel classification instead? With how MTG is setup, this may be a better choice, especially given the low-N of double & tri-colored cards.\n",
        "\n",
        "Let's see where we're going wrong"
      ]
    },
    {
      "cell_type": "code",
      "metadata": {
        "id": "hKKtSZdB5Xna",
        "outputId": "a202b4e9-d03f-40ef-b306-d1aa0beca3e4",
        "colab": {
          "base_uri": "https://localhost:8080/",
          "height": 434
        }
      },
      "source": [
        "interp = ClassificationInterpretation.from_learner(classifier)\n",
        "interp.most_confused(min_val=15)"
      ],
      "execution_count": 17,
      "outputs": [
        {
          "output_type": "display_data",
          "data": {
            "text/html": [
              ""
            ],
            "text/plain": [
              "<IPython.core.display.HTML object>"
            ]
          },
          "metadata": {
            "tags": []
          }
        },
        {
          "output_type": "execute_result",
          "data": {
            "text/plain": [
              "[('U', 'W', 60),\n",
              " ('G', 'W', 54),\n",
              " ('W', 'G', 54),\n",
              " ('B', 'W', 34),\n",
              " ('U', 'G', 32),\n",
              " ('R', 'G', 31),\n",
              " ('G', 'R', 28),\n",
              " ('R', 'B', 28),\n",
              " ('B', 'U', 26),\n",
              " ('G,W', 'G', 26),\n",
              " ('R', 'W', 26),\n",
              " ('W', 'U', 24),\n",
              " ('G', 'B', 23),\n",
              " ('G', 'U', 21),\n",
              " ('W', 'B', 20),\n",
              " ('B', 'R', 19),\n",
              " ('G,R', 'R', 18),\n",
              " ('U', 'B', 18),\n",
              " ('B,R', 'R', 17),\n",
              " ('U', 'R', 17),\n",
              " ('R', 'U', 16),\n",
              " ('W', 'R', 16),\n",
              " ('B,U', 'B', 15),\n",
              " ('B,W', 'B', 15)]"
            ]
          },
          "metadata": {
            "tags": []
          },
          "execution_count": 17
        }
      ]
    },
    {
      "cell_type": "code",
      "metadata": {
        "id": "jkcEkmXe5X0_",
        "outputId": "0e8d98c8-a2a9-436e-b15e-f342ce7559aa",
        "colab": {
          "base_uri": "https://localhost:8080/",
          "height": 766
        }
      },
      "source": [
        "interp.print_classification_report()"
      ],
      "execution_count": 18,
      "outputs": [
        {
          "output_type": "stream",
          "text": [
            "              precision    recall  f1-score   support\n",
            "\n",
            "           B       0.91      0.94      0.92      1567\n",
            "         B,G       0.90      0.74      0.81        95\n",
            "       B,G,R       0.95      0.91      0.93        22\n",
            "     B,G,R,U       0.00      0.00      0.00         0\n",
            "   B,G,R,U,W       1.00      0.59      0.74        22\n",
            "     B,G,R,W       1.00      0.67      0.80         3\n",
            "       B,G,U       0.93      0.87      0.90        15\n",
            "     B,G,U,W       1.00      1.00      1.00         2\n",
            "       B,G,W       0.71      0.71      0.71        21\n",
            "         B,R       0.86      0.77      0.82       137\n",
            "       B,R,U       0.86      0.60      0.71        30\n",
            "     B,R,U,W       1.00      1.00      1.00         2\n",
            "       B,R,W       0.95      0.70      0.81        27\n",
            "         B,U       0.88      0.76      0.81       133\n",
            "       B,U,W       0.93      0.74      0.82        19\n",
            "         B,W       0.96      0.70      0.81        96\n",
            "           G       0.88      0.91      0.90      1562\n",
            "         G,R       0.92      0.77      0.84       129\n",
            "       G,R,U       1.00      0.60      0.75        10\n",
            "     G,R,U,W       0.50      1.00      0.67         1\n",
            "       G,R,W       0.94      0.85      0.89        20\n",
            "         G,U       0.87      0.82      0.85        67\n",
            "       G,U,W       0.88      0.56      0.68        25\n",
            "         G,W       0.91      0.64      0.75       130\n",
            "           R       0.91      0.93      0.92      1553\n",
            "         R,U       0.96      0.81      0.88       108\n",
            "       R,U,W       0.83      0.67      0.74        15\n",
            "         R,W       0.90      0.67      0.77       105\n",
            "           U       0.91      0.91      0.91      1478\n",
            "         U,W       0.84      0.82      0.83       122\n",
            "           W       0.86      0.92      0.89      1568\n",
            "\n",
            "   micro avg       0.89      0.89      0.89      9084\n",
            "   macro avg       0.87      0.76      0.80      9084\n",
            "weighted avg       0.89      0.89      0.89      9084\n",
            "\n"
          ],
          "name": "stdout"
        },
        {
          "output_type": "stream",
          "text": [
            "/usr/local/lib/python3.6/dist-packages/sklearn/metrics/_classification.py:1272: UndefinedMetricWarning: Precision and F-score are ill-defined and being set to 0.0 in labels with no predicted samples. Use `zero_division` parameter to control this behavior.\n",
            "  _warn_prf(average, modifier, msg_start, len(result))\n",
            "/usr/local/lib/python3.6/dist-packages/sklearn/metrics/_classification.py:1272: UndefinedMetricWarning: Recall and F-score are ill-defined and being set to 0.0 in labels with no true samples. Use `zero_division` parameter to control this behavior.\n",
            "  _warn_prf(average, modifier, msg_start, len(result))\n"
          ],
          "name": "stderr"
        }
      ]
    },
    {
      "cell_type": "markdown",
      "metadata": {
        "id": "pBT0n0Ds5odK"
      },
      "source": [
        "A couples things noteworthy here:\n",
        "1. The bulk of misclassified data is single-colored. There's likely an effect of single-colored being overrepresented in the dataset as a whole so this isn't too surprising, but I was expected multicolored cards to have greater error prominence\n",
        "2. As expected, the f1 scores of single colored cards averages around 90% whereas double-colored is around 80% and tricolored varies wildly.\n",
        "\n",
        "Let's try a multilabel classifier. It's likely this'll be what we want anyways as, despite each color combination having a unique identity & feel, the color combinations are made up of their constituent colors"
      ]
    },
    {
      "cell_type": "markdown",
      "metadata": {
        "id": "W942VU7t5sXo"
      },
      "source": [
        "##Train multilabel classifier"
      ]
    },
    {
      "cell_type": "code",
      "metadata": {
        "id": "NBJGM-rW5YKM"
      },
      "source": [
        "def split_whitespace(c):\n",
        "    splits = list(c)\n",
        "    return \" \".join(splits)\n",
        "\n",
        "txt_df['colorID'] = txt_df['colorID'].apply(split_whitespace)"
      ],
      "execution_count": 19,
      "outputs": []
    },
    {
      "cell_type": "code",
      "metadata": {
        "id": "nd7oNoWB5YX7",
        "outputId": "56743a9e-29b9-4216-dd84-ec2c15d5ab21",
        "colab": {
          "base_uri": "https://localhost:8080/",
          "height": 17
        }
      },
      "source": [
        "def get_color_labels(r):\n",
        "    return r['colorID'].split(\" \")\n",
        "\n",
        "db = DataBlock(blocks=(TextBlock.from_df('text'), MultiCategoryBlock),\n",
        "               get_x=ColReader('text'),\n",
        "               get_y=get_color_labels,\n",
        "               splitter=RandomSplitter(0.2))\n",
        "\n",
        "dls = db.dataloaders(txt_df)"
      ],
      "execution_count": 20,
      "outputs": [
        {
          "output_type": "display_data",
          "data": {
            "text/html": [
              ""
            ],
            "text/plain": [
              "<IPython.core.display.HTML object>"
            ]
          },
          "metadata": {
            "tags": []
          }
        }
      ]
    },
    {
      "cell_type": "code",
      "metadata": {
        "id": "X_KC7K1m5YpO",
        "outputId": "b3e74bed-89a6-46b0-dceb-6f780d33cad1",
        "colab": {
          "base_uri": "https://localhost:8080/",
          "height": 283
        }
      },
      "source": [
        "dls.show_batch(max_n=3)"
      ],
      "execution_count": 21,
      "outputs": [
        {
          "output_type": "display_data",
          "data": {
            "text/html": [
              "<table border=\"1\" class=\"dataframe\">\n",
              "  <thead>\n",
              "    <tr style=\"text-align: right;\">\n",
              "      <th></th>\n",
              "      <th>text</th>\n",
              "      <th>None</th>\n",
              "    </tr>\n",
              "  </thead>\n",
              "  <tbody>\n",
              "    <tr>\n",
              "      <th>0</th>\n",
              "      <td>xxbos { 2 } : xxmaj greater xxmaj morphling gains your choice of banding , bushido 1 , double strike , fear , flying , first strike , haste , landwalk of your choice , protection from a color of your choice , provoke , rampage 1 , shadow , or trample until end of turn . \\n { 2 } : xxmaj greater xxmaj morphling becomes the colors of your choice until end of turn . \\n { 2 } : xxmaj greater xxmaj morphling becomes the creature type of your choice until end of turn . \\n { 2 } : xxmaj greater xxmaj morphling 's expansion symbol becomes the symbol of your choice until end of turn . \\n { 2 } : xxmaj greater xxmaj morphling 's art becomes by the artist of your choice until end of turn . \\n { 2 } : xxmaj</td>\n",
              "      <td>U</td>\n",
              "    </tr>\n",
              "    <tr>\n",
              "      <th>1</th>\n",
              "      <td>xxbos xxmaj fading 7 ( this enchantment enters the battlefield with seven fade counters on it . xxmaj at the beginning of your upkeep , remove a fade counter from it . xxmaj if you ca n't , sacrifice it . ) \\n xxmaj remove a fade counter from xxmaj saproling xxmaj burst : xxmaj create a green xxmaj saproling creature token . xxmaj it has \" this creature 's power and toughness are each equal to the number of fade counters on xxmaj saproling xxmaj burst . \" \\n xxmaj when xxmaj saproling xxmaj burst leaves the battlefield , destroy all tokens created with xxmaj saproling xxmaj burst . xxmaj they ca n't be regenerated . xxpad xxpad xxpad xxpad xxpad xxpad xxpad xxpad xxpad xxpad xxpad xxpad xxpad xxpad xxpad xxpad xxpad xxpad xxpad xxpad xxpad xxpad xxpad xxpad xxpad xxpad xxpad xxpad xxpad xxpad xxpad xxpad xxpad</td>\n",
              "      <td>G</td>\n",
              "    </tr>\n",
              "    <tr>\n",
              "      <th>2</th>\n",
              "      <td>xxbos xxmaj the xxmaj grand xxmaj xxunk can be your commander . \\n xxmaj when xxmaj the xxmaj grand xxmaj xxunk enters the battlefield , each player 's hand becomes a program ( an xxunk row of revealed cards ) . \\n xxmaj players can only play the first card of their program . \\n xxmaj if a card would be put into a player 's hand from anywhere , that player reveals it and xxunk it anywhere within their program instead . \\n xxmaj at the beginning of each player 's end step , if that player 's program has fewer than five cards , they draw cards equal to the difference . xxpad xxpad xxpad xxpad xxpad xxpad xxpad xxpad xxpad xxpad xxpad xxpad xxpad xxpad xxpad xxpad xxpad xxpad xxpad xxpad xxpad xxpad xxpad xxpad xxpad xxpad xxpad xxpad xxpad xxpad xxpad xxpad xxpad xxpad xxpad xxpad</td>\n",
              "      <td>,;U;W</td>\n",
              "    </tr>\n",
              "  </tbody>\n",
              "</table>"
            ],
            "text/plain": [
              "<IPython.core.display.HTML object>"
            ]
          },
          "metadata": {
            "tags": []
          }
        }
      ]
    },
    {
      "cell_type": "code",
      "metadata": {
        "id": "3q3k3N7r5Y48"
      },
      "source": [
        "multiclass = text_classifier_learner(dls, AWD_LSTM, drop_mult=0.5, metrics=accuracy_multi).to_fp16()\n",
        "multiclass = multiclass.load_encoder('MTG_language_encoder') \n",
        "# multiclass.lr_find() #3e-3"
      ],
      "execution_count": 25,
      "outputs": []
    },
    {
      "cell_type": "code",
      "metadata": {
        "id": "qNHdJI6t6GdQ",
        "outputId": "086d2183-9729-46b9-a6a3-80e3f18061a5",
        "colab": {
          "base_uri": "https://localhost:8080/",
          "height": 81
        }
      },
      "source": [
        "multiclass.fit_one_cycle(1, 3e-3)"
      ],
      "execution_count": 26,
      "outputs": [
        {
          "output_type": "display_data",
          "data": {
            "text/html": [
              "<table border=\"1\" class=\"dataframe\">\n",
              "  <thead>\n",
              "    <tr style=\"text-align: left;\">\n",
              "      <th>epoch</th>\n",
              "      <th>train_loss</th>\n",
              "      <th>valid_loss</th>\n",
              "      <th>accuracy_multi</th>\n",
              "      <th>time</th>\n",
              "    </tr>\n",
              "  </thead>\n",
              "  <tbody>\n",
              "    <tr>\n",
              "      <td>0</td>\n",
              "      <td>0.464979</td>\n",
              "      <td>0.360466</td>\n",
              "      <td>0.854910</td>\n",
              "      <td>01:06</td>\n",
              "    </tr>\n",
              "  </tbody>\n",
              "</table>"
            ],
            "text/plain": [
              "<IPython.core.display.HTML object>"
            ]
          },
          "metadata": {
            "tags": []
          }
        }
      ]
    },
    {
      "cell_type": "code",
      "metadata": {
        "id": "t9_uA_Dl6GrT"
      },
      "source": [
        "multiclass.freeze_to(-2)\n",
        "# multiclass.lr_find() # 1e-3"
      ],
      "execution_count": 27,
      "outputs": []
    },
    {
      "cell_type": "code",
      "metadata": {
        "id": "LtDCEhFH6G3t",
        "outputId": "5094707d-b0d5-477f-e0a6-6b413926187c",
        "colab": {
          "base_uri": "https://localhost:8080/",
          "height": 112
        }
      },
      "source": [
        "multiclass.fit_one_cycle(2, slice(1e-3/lr_inc, 1e-3))"
      ],
      "execution_count": 28,
      "outputs": [
        {
          "output_type": "display_data",
          "data": {
            "text/html": [
              "<table border=\"1\" class=\"dataframe\">\n",
              "  <thead>\n",
              "    <tr style=\"text-align: left;\">\n",
              "      <th>epoch</th>\n",
              "      <th>train_loss</th>\n",
              "      <th>valid_loss</th>\n",
              "      <th>accuracy_multi</th>\n",
              "      <th>time</th>\n",
              "    </tr>\n",
              "  </thead>\n",
              "  <tbody>\n",
              "    <tr>\n",
              "      <td>0</td>\n",
              "      <td>0.402394</td>\n",
              "      <td>0.315906</td>\n",
              "      <td>0.870358</td>\n",
              "      <td>01:07</td>\n",
              "    </tr>\n",
              "    <tr>\n",
              "      <td>1</td>\n",
              "      <td>0.365035</td>\n",
              "      <td>0.290161</td>\n",
              "      <td>0.882706</td>\n",
              "      <td>01:06</td>\n",
              "    </tr>\n",
              "  </tbody>\n",
              "</table>"
            ],
            "text/plain": [
              "<IPython.core.display.HTML object>"
            ]
          },
          "metadata": {
            "tags": []
          }
        }
      ]
    },
    {
      "cell_type": "code",
      "metadata": {
        "id": "Y0lEtjWy6HEg"
      },
      "source": [
        "multiclass.freeze_to(-4)\n",
        "# multiclass.lr_find() # 4e-2 should be fine"
      ],
      "execution_count": 29,
      "outputs": []
    },
    {
      "cell_type": "code",
      "metadata": {
        "id": "8Zd2q6zi6HRd",
        "outputId": "86fe2067-7db0-4833-873c-ee1ea9597ceb",
        "colab": {
          "base_uri": "https://localhost:8080/",
          "height": 112
        }
      },
      "source": [
        "multiclass.fit_one_cycle(2, slice(4e-2/lr_inc, 4e-2))"
      ],
      "execution_count": 30,
      "outputs": [
        {
          "output_type": "display_data",
          "data": {
            "text/html": [
              "<table border=\"1\" class=\"dataframe\">\n",
              "  <thead>\n",
              "    <tr style=\"text-align: left;\">\n",
              "      <th>epoch</th>\n",
              "      <th>train_loss</th>\n",
              "      <th>valid_loss</th>\n",
              "      <th>accuracy_multi</th>\n",
              "      <th>time</th>\n",
              "    </tr>\n",
              "  </thead>\n",
              "  <tbody>\n",
              "    <tr>\n",
              "      <td>0</td>\n",
              "      <td>0.257432</td>\n",
              "      <td>0.221823</td>\n",
              "      <td>0.914795</td>\n",
              "      <td>01:10</td>\n",
              "    </tr>\n",
              "    <tr>\n",
              "      <td>1</td>\n",
              "      <td>0.179739</td>\n",
              "      <td>0.148567</td>\n",
              "      <td>0.945784</td>\n",
              "      <td>01:09</td>\n",
              "    </tr>\n",
              "  </tbody>\n",
              "</table>"
            ],
            "text/plain": [
              "<IPython.core.display.HTML object>"
            ]
          },
          "metadata": {
            "tags": []
          }
        }
      ]
    },
    {
      "cell_type": "markdown",
      "metadata": {
        "id": "y_gZD9Ze6VvX"
      },
      "source": [
        "94% accuracy before final unfreezing, pretty good!\n"
      ]
    },
    {
      "cell_type": "code",
      "metadata": {
        "id": "STgG2A3C6HfB"
      },
      "source": [
        "multiclass.unfreeze()\n",
        "# multiclass.lr_find() # 2e-5 to 2e-3"
      ],
      "execution_count": 31,
      "outputs": []
    },
    {
      "cell_type": "code",
      "metadata": {
        "id": "hzqUfw-26Hsh",
        "outputId": "8160bf9e-6684-4194-c6ee-1d63a828935b",
        "colab": {
          "base_uri": "https://localhost:8080/",
          "height": 144
        }
      },
      "source": [
        "multiclass.fit_one_cycle(3, lr_max=slice(2e-5, 2e-3))"
      ],
      "execution_count": 32,
      "outputs": [
        {
          "output_type": "display_data",
          "data": {
            "text/html": [
              "<table border=\"1\" class=\"dataframe\">\n",
              "  <thead>\n",
              "    <tr style=\"text-align: left;\">\n",
              "      <th>epoch</th>\n",
              "      <th>train_loss</th>\n",
              "      <th>valid_loss</th>\n",
              "      <th>accuracy_multi</th>\n",
              "      <th>time</th>\n",
              "    </tr>\n",
              "  </thead>\n",
              "  <tbody>\n",
              "    <tr>\n",
              "      <td>0</td>\n",
              "      <td>0.142516</td>\n",
              "      <td>0.141466</td>\n",
              "      <td>0.948701</td>\n",
              "      <td>01:10</td>\n",
              "    </tr>\n",
              "    <tr>\n",
              "      <td>1</td>\n",
              "      <td>0.141507</td>\n",
              "      <td>0.134840</td>\n",
              "      <td>0.951600</td>\n",
              "      <td>01:09</td>\n",
              "    </tr>\n",
              "    <tr>\n",
              "      <td>2</td>\n",
              "      <td>0.133344</td>\n",
              "      <td>0.134317</td>\n",
              "      <td>0.951985</td>\n",
              "      <td>01:08</td>\n",
              "    </tr>\n",
              "  </tbody>\n",
              "</table>"
            ],
            "text/plain": [
              "<IPython.core.display.HTML object>"
            ]
          },
          "metadata": {
            "tags": []
          }
        }
      ]
    },
    {
      "cell_type": "code",
      "metadata": {
        "id": "ORIBwfCL5ZIF",
        "outputId": "39a75e76-5848-496a-fe10-b0b1e9c78b22",
        "colab": {
          "base_uri": "https://localhost:8080/",
          "height": 265
        }
      },
      "source": [
        "multiclass.recorder.plot_loss()"
      ],
      "execution_count": 33,
      "outputs": [
        {
          "output_type": "display_data",
          "data": {
            "image/png": "[encoded data removed]",
            "text/plain": [
              "<Figure size 432x288 with 1 Axes>"
            ]
          },
          "metadata": {
            "tags": [],
            "needs_background": "light"
          }
        }
      ]
    },
    {
      "cell_type": "markdown",
      "metadata": {
        "id": "GR-QglAv6d_A"
      },
      "source": [
        "Able to squeeze out an extra % or so from training the unfrozen model. Overall pretty happy with this barebones model performance!"
      ]
    },
    {
      "cell_type": "code",
      "metadata": {
        "id": "ZRZwY8yo6ebQ",
        "outputId": "282b93c4-80a8-44de-94c5-ebd80520552f",
        "colab": {
          "base_uri": "https://localhost:8080/",
          "height": 34
        }
      },
      "source": [
        "multiclass.save('MTG_text-to-color_multilabel_classifier')"
      ],
      "execution_count": 34,
      "outputs": [
        {
          "output_type": "execute_result",
          "data": {
            "text/plain": [
              "Path('models/MTG_text-to-color_multilabel_classifier.pth')"
            ]
          },
          "metadata": {
            "tags": []
          },
          "execution_count": 34
        }
      ]
    },
    {
      "cell_type": "code",
      "metadata": {
        "id": "16eWqEuVC6iP"
      },
      "source": [
        ""
      ],
      "execution_count": null,
      "outputs": []
    }
  ]
}